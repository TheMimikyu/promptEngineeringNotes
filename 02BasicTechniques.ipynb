{
 "cells": [
  {
   "cell_type": "markdown",
   "metadata": {},
   "source": [
    "# Prompting Techniques\n",
    "Mainly *3 Types* (Kinda):\n",
    "\n",
    "- Zero-Shot\n",
    "- Few-Shot & In-Context\n",
    "- Chain of Thought (CoT)"
   ]
  },
  {
   "cell_type": "markdown",
   "metadata": {},
   "source": [
    "### Setup & Few Functions"
   ]
  },
  {
   "cell_type": "code",
   "execution_count": 1,
   "metadata": {},
   "outputs": [],
   "source": [
    "from langchain_ollama import ChatOllama\n",
    "from langchain.prompts import PromptTemplate\n",
    "from langchain.chains import LLMChain"
   ]
  },
  {
   "cell_type": "code",
   "execution_count": 2,
   "metadata": {},
   "outputs": [],
   "source": [
    "llm = ChatOllama(model=\"llama3.2\")\n",
    "\n",
    "def createChain(prompt_template):\n",
    "    \"\"\"\n",
    "    Create a LangChain chain with the given prompt template.\n",
    "    \n",
    "    Args:\n",
    "        prompt_template (str): The prompt template string.\n",
    "    \n",
    "    Returns:\n",
    "        LLMChain: A LangChain chain object.\n",
    "    \"\"\"\n",
    "    \n",
    "    prompt = PromptTemplate.from_template(prompt_template)\n",
    "    return prompt | llm"
   ]
  },
  {
   "cell_type": "markdown",
   "metadata": {},
   "source": [
    "## Zero-Shot\n",
    "Gives _no examples_ to the LLM.\n",
    "\n",
    "*We'll understand it using 3 Different Methods:*\n",
    "- Direct Task Specification\n",
    "- Format Specification\n",
    "- Multi-step Reasoning\n",
    "\n",
    "And then we'll be doing a comparative analysis of the *Prompts*"
   ]
  },
  {
   "cell_type": "markdown",
   "metadata": {},
   "source": [
    "### Direct Task Specification"
   ]
  },
  {
   "cell_type": "code",
   "execution_count": 3,
   "metadata": {},
   "outputs": [
    {
     "name": "stdout",
     "output_type": "stream",
     "text": [
      "Text: I absolutely loved the movie! The acting was superb.\n",
      "Sentiment: Positive.\n",
      "Text: The weather today is quite typical for this time of year.\n",
      "Sentiment: Neutral.\n",
      "Text: I'm disappointed with the service I received at the restaurant.\n",
      "Sentiment: Negative\n"
     ]
    }
   ],
   "source": [
    "directTaskPrompt = \"\"\"Classify the sentiment of the following text as positive, negative, or neutral.\n",
    "Do not explain your reasoning, just provide the classification.\n",
    "\n",
    "Text: {text}\n",
    "\n",
    "Sentiment:\"\"\"\n",
    "\n",
    "directTaskChain = createChain(directTaskPrompt)\n",
    "\n",
    "# Test the direct task specification\n",
    "texts = [\n",
    "    \"I absolutely loved the movie! The acting was superb.\",\n",
    "    \"The weather today is quite typical for this time of year.\",\n",
    "    \"I'm disappointed with the service I received at the restaurant.\"\n",
    "]\n",
    "\n",
    "for text in texts:\n",
    "    result = directTaskChain.invoke({\"text\": text}).content\n",
    "    print(f\"Text: {text}\")\n",
    "    print(f\"Sentiment: {result}\")"
   ]
  },
  {
   "cell_type": "markdown",
   "metadata": {},
   "source": [
    "### Format Specification"
   ]
  },
  {
   "cell_type": "code",
   "execution_count": 4,
   "metadata": {},
   "outputs": [
    {
     "name": "stdout",
     "output_type": "stream",
     "text": [
      "**Headline:** \"New World on the Horizon: Scientists Discover Earth-Like Exoplanet\"\n",
      "\n",
      "**Lead:** In a groundbreaking discovery, a team of astronomers has identified a new exoplanet that bears striking similarities to our own planet Earth. The newly discovered world, dubbed Kepler-186f, is located approximately 490 light-years from us in the constellation Cygnus.\n",
      "\n",
      "**Body:** According to researchers, Kepler-186f orbits a G-type star - the same type of star that sustains life on Earth - and is situated within its habitable zone. This means that the planet's distance from its star allows it to maintain temperatures suitable for liquid water, a crucial ingredient for life as we know it.\n",
      "\n",
      "Further analysis suggests that Kepler-186f has a size comparable to that of our own Earth, with some scientists speculating that it may even possess an atmosphere similar to ours. While more research is needed to confirm the presence of life on this distant world, the discovery marks an exciting milestone in the ongoing quest for extraterrestrial life.\n",
      "\n",
      "**Conclusion:** As news of Kepler-186f's existence spreads, space enthusiasts and scientists alike are left with a thrilling prospect: could humanity soon have a new neighbor in the cosmos?\n"
     ]
    }
   ],
   "source": [
    "formatSpecPrompt = \"\"\"Generate a short news article about {topic}. \n",
    "Structure your response in the following format:\n",
    "\n",
    "Headline: [A catchy headline for the article]\n",
    "\n",
    "Lead: [A brief introductory paragraph summarizing the key points]\n",
    "\n",
    "Body: [2-3 short paragraphs providing more details]\n",
    "\n",
    "Conclusion: [A concluding sentence or call to action]\"\"\"\n",
    "\n",
    "formatSpecChain = createChain(formatSpecPrompt)\n",
    "\n",
    "# Test the format specification prompting\n",
    "topic = \"The discovery of a new earth-like exoplanet\"\n",
    "result = formatSpecChain.invoke({\"topic\": topic}).content\n",
    "print(result)"
   ]
  },
  {
   "cell_type": "markdown",
   "metadata": {},
   "source": [
    "### Multistep Reasoning\n",
    "\n",
    "Breaking down into simpler zero-shot steps."
   ]
  },
  {
   "cell_type": "code",
   "execution_count": 5,
   "metadata": {},
   "outputs": [
    {
     "name": "stdout",
     "output_type": "stream",
     "text": [
      "Here's the analysis of the text:\n",
      "\n",
      "**1. Main Argument:** The primary claim of the text is that electric vehicles are not a straightforward solution to combat climate change, due to their environmental impact during production and charging.\n",
      "\n",
      "**2. Supporting Evidence:**\n",
      "\n",
      "* The production of batteries for electric cars requires significant mining operations, leading to habitat destruction and water pollution.\n",
      "* If electricity used to charge these vehicles comes from fossil fuel sources, the overall carbon footprint may not be significantly reduced.\n",
      "* However, as renewable energy sources become more prevalent and battery technology improves, electric vehicles could play a crucial role in combating climate change.\n",
      "\n",
      "**3. Potential Counterarguments:**\n",
      "\n",
      "* Alternative viewpoint 1: While the production of batteries can have negative environmental impacts, these can be mitigated through responsible mining practices and recycling programs.\n",
      "* Alternative viewpoint 2: Some studies suggest that widespread adoption of electric vehicles could lead to significant reductions in greenhouse gas emissions, even if individual vehicles have higher carbon footprints due to production and charging.\n",
      "* Alternative viewpoint 3: The benefits of electric vehicles, such as reduced air pollution and noise pollution, may outweigh the drawbacks, especially in urban areas where traditional polluters are often concentrated.\n",
      "* Alternative viewpoint 4: The rapid progress in battery technology could lead to more efficient and sustainable production methods, making electric vehicles a more viable option for reducing carbon emissions.\n",
      "\n",
      "These counterarguments highlight potential criticisms of the main argument and encourage further discussion about the complexities of climate change mitigation through electric vehicles.\n"
     ]
    }
   ],
   "source": [
    "multiStepPrompt = \"\"\"Analyze the following text for its main argument, supporting evidence, and potential counterarguments. \n",
    "Provide your analysis in the following steps:\n",
    "\n",
    "1. Main Argument: Identify and state the primary claim or thesis.\n",
    "2. Supporting Evidence: List the key points or evidence used to support the main argument.\n",
    "3. Potential Counterarguments: Suggest possible objections or alternative viewpoints to the main argument.\n",
    "\n",
    "Text: {text}\n",
    "\n",
    "Analysis:\"\"\"\n",
    "\n",
    "multiStepChain = createChain(multiStepPrompt)\n",
    "\n",
    "# Test the multi-step reasoning approach\n",
    "text = \"\"\"While electric vehicles are often touted as a solution to climate change, their environmental impact is not as straightforward as it seems. \n",
    "The production of batteries for electric cars requires significant mining operations, which can lead to habitat destruction and water pollution. \n",
    "Moreover, if the electricity used to charge these vehicles comes from fossil fuel sources, the overall carbon footprint may not be significantly reduced. \n",
    "However, as renewable energy sources become more prevalent and battery technology improves, electric vehicles could indeed play a crucial role in combating climate change.\"\"\"\n",
    "\n",
    "result = multiStepChain.invoke({\"text\": text}).content\n",
    "print(result)"
   ]
  },
  {
   "cell_type": "markdown",
   "metadata": {},
   "source": [
    "### Comparative Analysis"
   ]
  },
  {
   "cell_type": "markdown",
   "metadata": {},
   "source": [
    "#### Note:\n",
    "Both Basic & Structured are useful but its important to understand what to use when. \n",
    "My Personal Belief is that its better to use *structured prompt*, and structure it for simplicity for a controlled result rather than go for a basic prompt and struggle with unpredictable results every time."
   ]
  },
  {
   "cell_type": "code",
   "execution_count": 6,
   "metadata": {},
   "outputs": [],
   "source": [
    "def comparePrompts(task, promptTemplates):\n",
    "    \"\"\"\n",
    "    Compare different prompt templates for the same task.\n",
    "    \n",
    "    Args:\n",
    "        task (str): The task description or input.\n",
    "        promptTemplates (dict): A dictionary of prompt templates with their names as keys.\n",
    "    \"\"\"\n",
    "    print(f\"Task: {task}\\n\")\n",
    "    for name, template in promptTemplates.items():\n",
    "        chain = createChain(template)\n",
    "        result = chain.invoke({\"task\": task}).content\n",
    "        print(f\"{name} Prompt Result:\")\n",
    "        print(result)\n",
    "        print(\"\\n\" + \"-\"*50 + \"\\n\")"
   ]
  },
  {
   "cell_type": "code",
   "execution_count": 7,
   "metadata": {},
   "outputs": [
    {
     "name": "stdout",
     "output_type": "stream",
     "text": [
      "Task: Explain conciesly the concept of blockchain technology\n",
      "\n",
      "Basic Prompt Result:\n",
      "Blockchain technology is a decentralized, digital ledger that records transactions across a network of computers in a secure and transparent way. Here's a concise explanation:\n",
      "\n",
      "**Key components:**\n",
      "\n",
      "1. **Decentralized network**: A network of computers (nodes) working together to validate and record transactions.\n",
      "2. **Digital ledger**: A chain of blocks, each containing a set of transactions, linked together through cryptographic hashes.\n",
      "3. **Cryptography**: Secure encryption methods protect the integrity and authenticity of transactions.\n",
      "\n",
      "**How it works:**\n",
      "\n",
      "1. A new block is added to the ledger with a unique code (hash).\n",
      "2. Nodes on the network verify the transaction and update their copy of the ledger.\n",
      "3. Once verified, the block is added to the ledger, creating a permanent record.\n",
      "4. Each node updates its copy of the ledger, ensuring everyone has the same version.\n",
      "\n",
      "**Benefits:**\n",
      "\n",
      "1. **Security**: Transactions are secure and tamper-proof due to cryptography.\n",
      "2. **Transparency**: All transactions are publicly visible on the ledger.\n",
      "3. **Decentralization**: No single entity controls the network or data.\n",
      "\n",
      "Blockchain technology has applications beyond cryptocurrency, including supply chain management, voting systems, and more.\n",
      "\n",
      "--------------------------------------------------\n",
      "\n",
      "Structured Prompt Result:\n",
      "Here's a concise explanation of blockchain technology:\n",
      "\n",
      "**Definition:** Blockchain is a decentralized, digital ledger that records transactions and data across a network of computers in a secure and transparent manner.\n",
      "\n",
      "**Key Features:**\n",
      "\n",
      "1. **Decentralized**: No single entity controls the network.\n",
      "2. **Distributed**: Data is stored on multiple nodes, ensuring redundancy and security.\n",
      "3. **Immutable**: Transactions are permanent and cannot be altered or deleted.\n",
      "4. **Transparent**: All transactions are publicly visible.\n",
      "5. **Consensus-driven**: Network participants agree on the validity of transactions.\n",
      "\n",
      "**Real-World Applications:**\n",
      "\n",
      "1. **Cryptocurrencies**: Bitcoin, Ethereum, and others use blockchain for secure financial transactions.\n",
      "2. **Supply Chain Management**: Companies like Walmart and Maersk use blockchain to track inventory and supply chain movements.\n",
      "3. **Identity Verification**: Estonia uses blockchain-based identity verification for its citizens.\n",
      "4. **Smart Contracts**: Self-executing contracts with automated enforcement are used in industries like real estate and insurance.\n",
      "5. **Healthcare**: Blockchain is used for secure storage of medical records and tracking of prescriptions.\n",
      "\n",
      "**Potential Impact on Industries:**\n",
      "\n",
      "1. **Increased Security**: Blockchain provides a secure and transparent way to store and transfer data.\n",
      "2. **Improved Efficiency**: Automation and smart contracts can streamline processes and reduce manual errors.\n",
      "3. **Enhanced Transparency**: All stakeholders have access to the same information, reducing disputes and increasing trust.\n",
      "4. **New Business Models**: Blockchain enables new business models, such as decentralized finance (DeFi) and non-fungible tokens (NFTs).\n",
      "5. **Regulatory Compliance**: Blockchain can help industries comply with regulations by providing a transparent and auditable record.\n",
      "\n",
      "Overall, blockchain technology has the potential to transform various industries by increasing security, efficiency, transparency, and trust in data exchange.\n",
      "\n",
      "--------------------------------------------------\n",
      "\n"
     ]
    }
   ],
   "source": [
    "task = \"Explain conciesly the concept of blockchain technology\"\n",
    "\n",
    "promptTemplates = {\n",
    "    \"Basic\": \"Explain {task}.\",\n",
    "    \"Structured\": \"\"\"Explain {task} by addressing the following points:\n",
    "1. Definition\n",
    "2. Key features\n",
    "3. Real-world applications\n",
    "4. Potential impact on industries\"\"\"\n",
    "}\n",
    "\n",
    "comparePrompts(task, promptTemplates)"
   ]
  },
  {
   "cell_type": "markdown",
   "metadata": {},
   "source": [
    "## Few-Shot Learning and In-Context Learning"
   ]
  },
  {
   "cell_type": "markdown",
   "metadata": {},
   "source": [
    "To perform tasks by giving a handful of examples."
   ]
  },
  {
   "cell_type": "markdown",
   "metadata": {},
   "source": [
    "### Simple Few-Shot"
   ]
  },
  {
   "cell_type": "code",
   "execution_count": 8,
   "metadata": {},
   "outputs": [
    {
     "name": "stdout",
     "output_type": "stream",
     "text": [
      "Input: I can't believe how great this new restaurant is!\n",
      "Predicted Sentiment: Positive\n"
     ]
    }
   ],
   "source": [
    "def fewShotSentimentClassification(inputText):\n",
    "    fewShotPrompt = PromptTemplate(\n",
    "        input_variables=[\"inputText\"],\n",
    "        template=\"\"\"\n",
    "        Classify the sentiment as Positive, Negative, or Neutral, only.\n",
    "        \n",
    "        Examples:\n",
    "        Text: I love this product! It's amazing.\n",
    "        Sentiment: Positive\n",
    "        \n",
    "        Text: This movie was terrible. I hated it.\n",
    "        Sentiment: Negative\n",
    "        \n",
    "        Text: The weather today is okay.\n",
    "        Sentiment: Neutral\n",
    "        \n",
    "        Now, classify the following:\n",
    "        Text: {inputText}\n",
    "        Sentiment:\n",
    "        \"\"\"\n",
    "    )\n",
    "    \n",
    "    chain = fewShotPrompt | llm\n",
    "    result = chain.invoke(inputText).content\n",
    "\n",
    "    # Clean up the result\n",
    "    result = result.strip()\n",
    "    # Extract only the sentiment label\n",
    "    if ':' in result:\n",
    "        result = result.split(':')[1].strip() # We are taking after the colon\n",
    "    \n",
    "    return result  # This will now return just \"Positive\", \"Negative\", or \"Neutral\"\n",
    "\n",
    "testText = \"I can't believe how great this new restaurant is!\"\n",
    "result = fewShotSentimentClassification(testText)\n",
    "print(f\"Input: {testText}\")\n",
    "print(f\"Predicted Sentiment: {result}\")"
   ]
  },
  {
   "cell_type": "markdown",
   "metadata": {},
   "source": [
    "### Advanced Few-Shot Techniques"
   ]
  },
  {
   "cell_type": "markdown",
   "metadata": {},
   "source": [
    "#### Multi-Task Learning\n",
    "Training on multiple related task at the same time. "
   ]
  },
  {
   "cell_type": "code",
   "execution_count": 9,
   "metadata": {},
   "outputs": [
    {
     "name": "stdout",
     "output_type": "stream",
     "text": [
      "Sentiment: Positive\n",
      "The text \"Guten Tag, wie geht es Ihnen?\" is written in German.\n"
     ]
    }
   ],
   "source": [
    "def multiTaskFewShot(inputText, task):\n",
    "    fewShotPrompt = PromptTemplate(\n",
    "        input_variables=[\"inputText\", \"task\"],\n",
    "        template=\"\"\"\n",
    "        Perform the specified task on the given text.\n",
    "        \n",
    "        Examples:\n",
    "        Text: I love this product! It's amazing.\n",
    "        Task: sentiment\n",
    "        Sentiment: Positive\n",
    "        \n",
    "        Text: Bonjour, comment allez-vous?\n",
    "        Task: language\n",
    "        Language: French\n",
    "        \n",
    "        Now, perform the following task:\n",
    "        Text: {inputText}\n",
    "        Task: {task}\n",
    "        Result:\n",
    "        \"\"\"\n",
    "    )\n",
    "    \n",
    "    chain = fewShotPrompt | llm\n",
    "    return chain.invoke({\"inputText\": inputText, \"task\": task}).content\n",
    "\n",
    "print(multiTaskFewShot(\"I can't believe how great this is!\", \"sentiment\"))\n",
    "print(multiTaskFewShot(\"Guten Tag, wie geht es Ihnen?\", \"language\"))"
   ]
  },
  {
   "cell_type": "markdown",
   "metadata": {},
   "source": [
    "#### In-Context Learning\n",
    " allows models to adapt to new tasks based on examples provided in the prompt.\n"
   ]
  },
  {
   "cell_type": "code",
   "execution_count": 10,
   "metadata": {},
   "outputs": [
    {
     "name": "stdout",
     "output_type": "stream",
     "text": [
      "Input: python\n",
      "Output: ythonpay\n"
     ]
    }
   ],
   "source": [
    "def inContextLearning(taskDescription, examples, inputText):\n",
    "    exampleText = \"\".join([f\"Input: {e['input']}\\nOutput: {e['output']}\\n\\n\" for e in examples])\n",
    "    \n",
    "    in_context_prompt = PromptTemplate(\n",
    "        input_variables=[\"taskDescription\", \"examples\", \"inputText\"],\n",
    "        template=\"\"\"\n",
    "        Task: {taskDescription}\n",
    "        \n",
    "        Examples:\n",
    "        {examples}\n",
    "        \n",
    "        Now, perform the task on the following input:\n",
    "        Input: {inputText}\n",
    "        Output:\n",
    "        \"\"\"\n",
    "    )\n",
    "    \n",
    "    chain = in_context_prompt | llm\n",
    "    return chain.invoke({\"taskDescription\": taskDescription, \"examples\": exampleText, \"inputText\": inputText}).content\n",
    "\n",
    "taskDesc = \"Convert the given text to pig latin. Give Output Only.\"\n",
    "examples = [\n",
    "    {\"input\": \"hello\", \"output\": \"ellohay\"},\n",
    "    {\"input\": \"apple\", \"output\": \"appleay\"}\n",
    "]\n",
    "testInput = \"python\"\n",
    "\n",
    "result = inContextLearning(taskDesc, examples, testInput)\n",
    "print(f\"Input: {testInput}\")\n",
    "print(f\"Output: {result}\")"
   ]
  },
  {
   "cell_type": "markdown",
   "metadata": {},
   "source": [
    "### Evaluation"
   ]
  },
  {
   "cell_type": "code",
   "execution_count": 11,
   "metadata": {},
   "outputs": [
    {
     "name": "stdout",
     "output_type": "stream",
     "text": [
      "Input: This product exceeded my expectations!\n",
      "Predicted: Positive\n",
      "Actual: Positive\n",
      "Correct: True\n",
      "\n",
      "Input: I'm utterly disappointed with the service.\n",
      "Predicted: Negative\n",
      "Actual: Negative\n",
      "Correct: True\n",
      "\n",
      "Input: The temperature today is 72 degrees.\n",
      "Predicted: Neutral\n",
      "Actual: Neutral\n",
      "Correct: True\n",
      "\n",
      "Model Accuracy: 1.00\n"
     ]
    }
   ],
   "source": [
    "def evaluateModel(modelFunc, testCases):\n",
    "    '''\n",
    "    Evaluate the model on a set of test cases.\n",
    "\n",
    "    Args:\n",
    "    modelFunc: The function that makes predictions.\n",
    "    testCases: A list of dictionaries, where each dictionary contains an \"input\" text and a \"label\" for the input.\n",
    "\n",
    "    Returns:\n",
    "    The accuracy of the model on the test cases. \n",
    "    '''\n",
    "    correct = 0\n",
    "    total = len(testCases)\n",
    "    \n",
    "    for case in testCases:\n",
    "        inputText = case['input']\n",
    "        trueLabel = case['label']\n",
    "        prediction = modelFunc(inputText).strip()\n",
    "        \n",
    "        isCorrect = prediction.lower() == trueLabel.lower()\n",
    "        correct += int(isCorrect)\n",
    "        \n",
    "        print(f\"Input: {inputText}\")\n",
    "        print(f\"Predicted: {prediction}\")\n",
    "        print(f\"Actual: {trueLabel}\")\n",
    "        print(f\"Correct: {isCorrect}\\n\")\n",
    "    \n",
    "    accuracy = correct / total\n",
    "    return accuracy\n",
    "\n",
    "testCases = [\n",
    "    {\"input\": \"This product exceeded my expectations!\", \"label\": \"Positive\"},\n",
    "    {\"input\": \"I'm utterly disappointed with the service.\", \"label\": \"Negative\"},\n",
    "    {\"input\": \"The temperature today is 72 degrees.\", \"label\": \"Neutral\"}\n",
    "]\n",
    "\n",
    "accuracy = evaluateModel(fewShotSentimentClassification, testCases)\n",
    "print(f\"Model Accuracy: {accuracy:.2f}\")"
   ]
  },
  {
   "cell_type": "markdown",
   "metadata": {},
   "source": [
    "#### Note:\n",
    "\n",
    "Accuracy changes with each re-run. Raising Questions of reliability."
   ]
  },
  {
   "cell_type": "markdown",
   "metadata": {},
   "source": [
    "## Chain of Thoughts\n",
    "\n",
    " encourages AI models to break down complex problems into step-by-step reasoning processes."
   ]
  },
  {
   "cell_type": "markdown",
   "metadata": {},
   "source": [
    "### Basic Chain of Thought: Comparision"
   ]
  },
  {
   "cell_type": "code",
   "execution_count": 12,
   "metadata": {},
   "outputs": [
    {
     "name": "stdout",
     "output_type": "stream",
     "text": [
      "Standard Response:\n",
      "To find the average speed, divide the distance traveled by the time taken:\n",
      "\n",
      "Average Speed = Distance / Time\n",
      "= 120 km / 2 hours\n",
      "= 60 km/h.\n",
      "\n",
      "Chain of Thought Response:\n",
      "Here's the solution:\n",
      "\n",
      "1. Distance traveled = 120 km\n",
      "2. Time taken = 2 hours\n",
      "3. Average speed = Total distance / Time taken = 120 km / 2 hours = 60 km/h\n"
     ]
    }
   ],
   "source": [
    "# Standard prompt\n",
    "standard_prompt = PromptTemplate(\n",
    "    input_variables=[\"question\"],\n",
    "    template=\"Answer the following question concisely: {question}.\"\n",
    ")\n",
    "\n",
    "# Chain of Thought prompt\n",
    "cot_prompt = PromptTemplate(\n",
    "    input_variables=[\"question\"],\n",
    "    template=\"Answer the following question step by step concisely: {question}\"\n",
    ")\n",
    "\n",
    "# Create chains\n",
    "standard_chain = standard_prompt | llm\n",
    "cot_chain = cot_prompt | llm\n",
    "\n",
    "# Example question\n",
    "question = \"If a train travels 120 km in 2 hours, what is its average speed in km/h?\"\n",
    "\n",
    "# Get responses\n",
    "standard_response = standard_chain.invoke(question).content\n",
    "cot_response = cot_chain.invoke(question).content\n",
    "\n",
    "print(\"Standard Response:\")\n",
    "print(standard_response)\n",
    "print(\"\\nChain of Thought Response:\")\n",
    "print(cot_response)"
   ]
  },
  {
   "cell_type": "markdown",
   "metadata": {},
   "source": [
    "### Advanced Chain of Thought\n",
    "\n",
    "Encouraging the LLM by giving the steps to follow in the prompt itself."
   ]
  },
  {
   "cell_type": "code",
   "execution_count": 13,
   "metadata": {},
   "outputs": [
    {
     "name": "stdout",
     "output_type": "stream",
     "text": [
      "Here's the step-by-step solution:\n",
      "\n",
      "**Step 1: State what we're going to calculate**\n",
      "We need to find the average speed for the entire journey.\n",
      "\n",
      "**Step 2: Write the formula you'll use (if applicable)**\n",
      "The formula for average speed is:\n",
      "Average Speed = Total Distance / Total Time\n",
      "\n",
      "Since time can be calculated using the formula:\n",
      "Time = Distance / Speed\n",
      "we will first calculate the total distance and individual times, then add them together to find the total time.\n",
      "\n",
      "**Step 3: Perform the calculations**\n",
      "\n",
      "**For the first part of the journey (150 km at 60 km/h):**\n",
      "Distance = 150 km\n",
      "Speed = 60 km/h\n",
      "\n",
      "Time = Distance / Speed\n",
      "= 150 km / 60 km/h\n",
      "= 2.5 hours\n",
      "\n",
      "**For the second part of the journey (100 km at 50 km/h):**\n",
      "Distance = 100 km\n",
      "Speed = 50 km/h\n",
      "\n",
      "Time = Distance / Speed\n",
      "= 100 km / 50 km/h\n",
      "= 2 hours\n",
      "\n",
      "**Total distance and time:**\n",
      "Total Distance = 150 km + 100 km = 250 km\n",
      "Total Time = 2.5 hours + 2 hours = 4.5 hours\n",
      "\n",
      "**Step 4: Calculate the average speed using the formula**\n",
      "Average Speed = Total Distance / Total Time\n",
      "= 250 km / 4.5 hours\n",
      "= 55.56 km/h (approximately)\n",
      "\n",
      "The result is that the average speed for the entire journey is approximately 55.56 km/h.\n"
     ]
    }
   ],
   "source": [
    "advanced_cot_prompt = PromptTemplate(\n",
    "    input_variables=[\"question\"],\n",
    "    template=\"\"\"Solve the following problem step by step. For each step:\n",
    "1. State what you're going to calculate\n",
    "2. Write the formula you'll use (if applicable)\n",
    "3. Perform the calculation\n",
    "4. Explain the result\n",
    "\n",
    "Question: {question}\n",
    "\n",
    "Solution:\"\"\"\n",
    ")\n",
    "\n",
    "advanced_cot_chain = advanced_cot_prompt | llm\n",
    "\n",
    "complex_question = \"A car travels 150 km at 60 km/h, then another 100 km at 50 km/h. What is the average speed for the entire journey?\"\n",
    "\n",
    "advanced_cot_response = advanced_cot_chain.invoke(complex_question).content\n",
    "print(advanced_cot_response)"
   ]
  },
  {
   "cell_type": "markdown",
   "metadata": {},
   "source": [
    "### Comparitive Analysis: Basic VS COT"
   ]
  },
  {
   "cell_type": "markdown",
   "metadata": {},
   "source": [
    "Chain of Thoughts method shines on complicated multi-step challenging Qs."
   ]
  },
  {
   "cell_type": "code",
   "execution_count": 16,
   "metadata": {},
   "outputs": [
    {
     "name": "stdout",
     "output_type": "stream",
     "text": [
      "Standard Response:\n",
      "To solve this problem, we need to calculate the volume of water in the tank when it is full, then find the remaining volume that needs to be added.\n",
      "\n",
      "The formula for the volume of a cylinder is:\n",
      "\n",
      "V = πr^2h\n",
      "\n",
      "where V is the volume, π is pi (approximately 3.14159), r is the radius, and h is the height.\n",
      "\n",
      "First, calculate the total capacity of the tank when it's full:\n",
      "V = π(1.5)^2(4)\n",
      "= 3.14159 * 2.25 * 4\n",
      "≈ 28.27 cubic meters\n",
      "\n",
      "Since 1 cubic meter is equal to 1000 liters, the full capacity is:\n",
      "28.27 cubic meters * 1000 liters/cubic meter ≈ 28270 liters\n",
      "\n",
      "The tank is currently 2/3 full, so we need to calculate the current volume of water in the tank:\n",
      "Current volume = (2/3) * 28270 liters\n",
      "≈ 18846.67 liters\n",
      "\n",
      "Now, let's find out how much more water needs to be added for the tank to overflow:\n",
      "Remaining volume = Total capacity - Current volume\n",
      "= 28270 liters - 18846.67 liters\n",
      "≈ 9423.33 liters\n",
      "\n",
      "Since water is being added at a rate of 10 liters per minute, we can calculate the time it takes for the tank to overflow:\n",
      "\n",
      "Time = Remaining volume / Add rate\n",
      "≈ 9423.33 liters / 10 liters/minute\n",
      "≈ 942.333 minutes\n",
      "\n",
      "Now convert this to hours and minutes:\n",
      "Hours = 942.333 minutes / 60 ≈ 15.71 hours\n",
      "Since 0.71 hours is approximately equal to 42.8 minutes, \n",
      "the answer rounded to the nearest minute will be: \n",
      "15 hours and 43 minutes\n",
      "\n",
      "Chain of Thought Response:\n",
      "Step 1: Calculate the volume of water in the tank\n",
      "To find the time it takes for the tank to overflow, we need to know the total capacity of the tank and how much water is currently in it. The formula for the volume of a cylinder is:\n",
      "\n",
      "V = πr^2h\n",
      "\n",
      "where V is the volume, π (pi) is approximately 3.14159, r is the radius, and h is the height.\n",
      "\n",
      "Step 2: Write the formula\n",
      "We'll use the formula for the volume of a cylinder:\n",
      "\n",
      "V = πr^2h\n",
      "\n",
      "Substitute the given values:\n",
      "V = π(1.5)^2(4)\n",
      "\n",
      "Step 3: Perform the calculation\n",
      "Calculate the volume of the tank:\n",
      "\n",
      "V = 3.14159 * (1.5)^2 * 4\n",
      "V ≈ 28.27 cubic meters\n",
      "\n",
      "Since the tank is 2/3 full, we need to find the amount of water currently in the tank:\n",
      "Current Volume = Total Volume * Fraction Full\n",
      "= 28.27 * (2/3)\n",
      "≈ 18.78 cubic meters\n",
      "\n",
      "Step 4: Calculate the total volume of water needed to fill the tank\n",
      "Total Volume = Current Volume * 1 (since we want to find when it's full, not just 2/3 full)\n",
      "\n",
      "Total Volume ≈ 18.78 * 1\n",
      "≈ 18.78 cubic meters\n",
      "\n",
      "However, we are asked for liters, so let's convert from cubic meters to liters:\n",
      "1 cubic meter = 1000 liters\n",
      "\n",
      "Total Volume (in liters) ≈ 18.78 * 1000\n",
      "≈ 18780 liters\n",
      "\n",
      "Step 5: Calculate the time it takes for the tank to overflow\n",
      "We know that water is being added at a rate of 10 liters per minute, and we want to find out how long it will take to fill the tank.\n",
      "\n",
      "Time = Total Volume (in liters) / Rate\n",
      "= 18780 liters / 10 liters/minute\n",
      "\n",
      "Step 6: Perform the calculation\n",
      "Calculate the time:\n",
      "\n",
      "Time ≈ 18780 / 10\n",
      "≈ 1880 minutes\n",
      "\n",
      "Convert the time from minutes to hours and minutes:\n",
      "1880 minutes ÷ 60 = 31.3333 hours\n",
      "Round the hours and minutes: 31 hours and 20 minutes\n"
     ]
    }
   ],
   "source": [
    "challenging_question = \"\"\"\n",
    "A cylindrical water tank with a radius of 1.5 meters and a height of 4 meters is 2/3 full. \n",
    "If water is being added at a rate of 10 liters per minute, how long will it take for the tank to overflow? \n",
    "Give your answer in hours and minutes, rounded to the nearest minute. \n",
    "(Use 3.14159 for π and 1000 liters = 1 cubic meter)\"\"\"\n",
    "\n",
    "standard_response = standard_chain.invoke(challenging_question).content\n",
    "cot_response = advanced_cot_chain.invoke(challenging_question).content\n",
    "\n",
    "print(\"Standard Response:\")\n",
    "print(standard_response)\n",
    "print(\"\\nChain of Thought Response:\")\n",
    "print(cot_response)"
   ]
  },
  {
   "cell_type": "markdown",
   "metadata": {},
   "source": [
    "*Note:* Through multiple re-runs, the CoT prompt consistently provides correct answers, whereas the standard prompt only achieves this intermittently."
   ]
  },
  {
   "cell_type": "markdown",
   "metadata": {},
   "source": [
    "### Logical Reasoning: COT Application"
   ]
  },
  {
   "cell_type": "code",
   "execution_count": 15,
   "metadata": {},
   "outputs": [
    {
     "name": "stdout",
     "output_type": "stream",
     "text": [
      "**List of Facts:**\n",
      "\n",
      "The given information is as follows:\n",
      "\n",
      "1. There are three people in a room: Amy, Bob, and Charlie.\n",
      "2. One person always tells the truth, one person always lies, and one person alternates between truth and lies.\n",
      "3. Amy says, 'Bob is a liar.'\n",
      "4. Bob says, 'Charlie alternates between truth and lies.'\n",
      "5. Charlie says, 'Amy and I are both liars.'\n",
      "\n",
      "**Characters or Elements:**\n",
      "\n",
      "The three characters involved are:\n",
      "\n",
      "1. Amy\n",
      "2. Bob\n",
      "3. Charlie\n",
      "\n",
      "**Possible Roles or Conditions:**\n",
      "\n",
      "The possible roles or conditions for the characters are:\n",
      "\n",
      "1. Truth-teller (always tells the truth)\n",
      "2. Liar (always lies)\n",
      "3. Alternator (alternates between truth and lies)\n",
      "\n",
      "**Constraints:**\n",
      "\n",
      "The constraints specified in the puzzle are:\n",
      "\n",
      "1. One person always tells the truth.\n",
      "2. One person always lies.\n",
      "3. One person alternates between truth and lies.\n",
      "4. The statements made by each person must be consistent with their role or condition.\n",
      "\n",
      "**Generate Possible Scenarios:**\n",
      "\n",
      "Let's consider all possible combinations of roles or conditions for the characters:\n",
      "\n",
      "1. Amy is a Truth-teller, Bob is an Alternator, and Charlie is a Liar.\n",
      "2. Amy is a Truth-teller, Bob is a Liar, and Charlie is an Alternator.\n",
      "3. Amy is a Truth-teller, Bob is an Alternator, and Charlie is a Truth-teller.\n",
      "4. Amy is a Truth-teller, Bob is a Liar, and Charlie is a Truth-teller.\n",
      "5. Amy is a Liar, Bob is a Truth-teller, and Charlie is an Alternator.\n",
      "6. Amy is a Liar, Bob is a Liar, and Charlie is a Truth-teller.\n",
      "7. Amy is a Liar, Bob is a Truth-teller, and Charlie is a Truth-teller.\n",
      "8. Amy is a Liar, Bob is a Liar, and Charlie is an Alternator.\n",
      "\n",
      "**Test Each Scenario:**\n",
      "\n",
      "Let's analyze each scenario based on the assumptions:\n",
      "\n",
      "1. Amy is a Truth-teller, Bob is an Alternator, and Charlie is a Liar:\n",
      "\t* Amy says, 'Bob is a liar.' (True, consistent with Amy being a Truth-teller)\n",
      "\t* Bob says, 'Charlie alternates between truth and lies.' (False, since Charlie is always a Liar) → Inconsistent\n",
      "2. Amy is a Truth-teller, Bob is a Liar, and Charlie is an Alternator:\n",
      "\t* Amy says, 'Bob is a liar.' (True, consistent with Amy being a Truth-teller)\n",
      "\t* Bob says, 'Charlie alternates between truth and lies.' (False, since Charlie must be a Liar) → Inconsistent\n",
      "3. Amy is a Truth-teller, Bob is an Alternator, and Charlie is a Truth-teller:\n",
      "\t* Amy says, 'Bob is a liar.' (False, since Bob cannot be both an Alternator and a Liar) → Inconsistent\n",
      "4. Amy is a Truth-teller, Bob is a Liar, and Charlie is a Truth-teller:\n",
      "\t* Amy says, 'Bob is a liar.' (True, consistent with Amy being a Truth-teller)\n",
      "\t* Bob says, 'Charlie alternates between truth and lies.' (False, since Charlie cannot be both an Alternator and a Truth-teller) → Inconsistent\n",
      "5. Amy is a Liar, Bob is a Truth-teller, and Charlie is an Alternator:\n",
      "\t* Amy says, 'Bob is a liar.' (False, since Bob is actually a Truth-teller) → Inconsistent\n",
      "6. Amy is a Liar, Bob is a Liar, and Charlie is a Truth-teller:\n",
      "\t* Amy says, 'Bob is a liar.' (True, consistent with Amy being a Liar)\n",
      "\t* Bob says, 'Charlie alternates between truth and lies.' (False, since Charlie cannot be both an Alternator and a Truth-teller) → Inconsistent\n",
      "7. Amy is a Liar, Bob is a Truth-teller, and Charlie is a Truth-teller:\n",
      "\t* Amy says, 'Bob is a liar.' (True, consistent with Amy being a Liar)\n",
      "\t* Bob says, 'Charlie alternates between truth and lies.' (False, since Charlie cannot be both an Alternator and a Truth-teller) → Inconsistent\n",
      "8. Amy is a Liar, Bob is a Liar, and Charlie is an Alternator:\n",
      "\t* Amy says, 'Bob is a liar.' (True, consistent with Amy being a Liar)\n",
      "\t* Bob says, 'Charlie alternates between truth and lies.' (False, since Charlie must be a Truth-teller) → Inconsistent\n",
      "\n",
      "**Eliminate Inconsistent Scenarios:**\n",
      "\n",
      "Based on the analysis, we can eliminate scenarios 1, 2, 3, 4, 5, 6, and 7.\n",
      "\n",
      "**Conclude the Solution:**\n",
      "\n",
      "The only consistent scenario is:\n",
      "\n",
      "* Amy is a Liar\n",
      "* Bob is a Truth-teller\n",
      "* Charlie is an Alternator\n",
      "\n",
      "This solution satisfies all the constraints and statements made by each person. Therefore, we can conclude that:\n",
      "\n",
      "Amy is a Liar (always lies)\n",
      "Bob is a Truth-teller (always tells the truth)\n",
      "Charlie is an Alternator (alternates between truth and lies)\n",
      "\n",
      "**Explanation:**\n",
      "\n",
      "This solution works because it meets the following conditions:\n",
      "\n",
      "* Amy's statement 'Bob is a liar' is false, which is consistent with Amy being a Liar.\n",
      "* Bob's statement 'Charlie alternates between truth and lies' is false, since Charlie must be an Alternator (alternating between truth and lies).\n",
      "* Charlie's statement 'Amy and I are both liars' is true, since Amy is indeed a Liar.\n",
      "\n",
      "By analyzing all possible scenarios systematically, we have eliminated the inconsistent ones and found the correct solution.\n"
     ]
    }
   ],
   "source": [
    "logical_reasoning_prompt = PromptTemplate(\n",
    "    input_variables=[\"scenario\"],\n",
    "    template=\"\"\"Analyze the following logical puzzle thoroughly. Follow these steps in your analysis:\n",
    "\n",
    "List the Facts:\n",
    "\n",
    "Summarize all the given information and statements clearly.\n",
    "Identify all the characters or elements involved.\n",
    "Identify Possible Roles or Conditions:\n",
    "\n",
    "Determine all possible roles, behaviors, or states applicable to the characters or elements (e.g., truth-teller, liar, alternator).\n",
    "Note the Constraints:\n",
    "\n",
    "Outline any rules, constraints, or relationships specified in the puzzle.\n",
    "Generate Possible Scenarios:\n",
    "\n",
    "Systematically consider all possible combinations of roles or conditions for the characters or elements.\n",
    "Ensure that all permutations are accounted for.\n",
    "Test Each Scenario:\n",
    "\n",
    "For each possible scenario:\n",
    "Assume the roles or conditions you've assigned.\n",
    "Analyze each statement based on these assumptions.\n",
    "Check for consistency or contradictions within the scenario.\n",
    "Eliminate Inconsistent Scenarios:\n",
    "\n",
    "Discard any scenarios that lead to contradictions or violate the constraints.\n",
    "Keep track of the reasoning for eliminating each scenario.\n",
    "Conclude the Solution:\n",
    "\n",
    "Identify the scenario(s) that remain consistent after testing.\n",
    "Summarize the findings.\n",
    "Provide a Clear Answer:\n",
    "\n",
    "State definitively the role or condition of each character or element.\n",
    "Explain why this is the only possible solution based on your analysis.\n",
    "Scenario:\n",
    "\n",
    "{scenario}\n",
    "\n",
    "Analysis:\"\"\")\n",
    "\n",
    "logical_reasoning_chain = logical_reasoning_prompt | llm\n",
    "\n",
    "logical_puzzle = \"\"\"In a room, there are three people: Amy, Bob, and Charlie. \n",
    "One of them always tells the truth, one always lies, and one alternates between truth and lies. \n",
    "Amy says, 'Bob is a liar.' \n",
    "Bob says, 'Charlie alternates between truth and lies.' \n",
    "Charlie says, 'Amy and I are both liars.' \n",
    "Determine the nature (truth-teller, liar, or alternator) of each person.\"\"\"\n",
    "\n",
    "logical_reasoning_response = logical_reasoning_chain.invoke(logical_puzzle).content\n",
    "print(logical_reasoning_response)"
   ]
  }
 ],
 "metadata": {
  "kernelspec": {
   "display_name": ".venv",
   "language": "python",
   "name": "python3"
  },
  "language_info": {
   "codemirror_mode": {
    "name": "ipython",
    "version": 3
   },
   "file_extension": ".py",
   "mimetype": "text/x-python",
   "name": "python",
   "nbconvert_exporter": "python",
   "pygments_lexer": "ipython3",
   "version": "3.12.3"
  }
 },
 "nbformat": 4,
 "nbformat_minor": 2
}
