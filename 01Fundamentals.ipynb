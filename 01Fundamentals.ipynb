{
 "cells": [
  {
   "cell_type": "code",
   "execution_count": 1,
   "metadata": {},
   "outputs": [],
   "source": [
    "from langchain_ollama import ChatOllama\n",
    "from langchain.prompts import PromptTemplate"
   ]
  },
  {
   "cell_type": "code",
   "execution_count": 2,
   "metadata": {},
   "outputs": [],
   "source": [
    "llm = ChatOllama(model = \"llama3.2\")"
   ]
  },
  {
   "cell_type": "markdown",
   "metadata": {},
   "source": [
    "# Basic Concepts & Importance"
   ]
  },
  {
   "cell_type": "markdown",
   "metadata": {},
   "source": [
    "## Basic Prompt"
   ]
  },
  {
   "cell_type": "code",
   "execution_count": 3,
   "metadata": {},
   "outputs": [],
   "source": [
    "basic_prompt = \"Explain the concept of prompt engineering in one sentence.\""
   ]
  },
  {
   "cell_type": "code",
   "execution_count": 4,
   "metadata": {},
   "outputs": [
    {
     "name": "stdout",
     "output_type": "stream",
     "text": [
      "Prompt engineering is the process of designing, crafting, and optimizing text prompts to elicit specific and accurate responses from language models or other AI systems, often through a combination of human judgment and experimentation.\n"
     ]
    }
   ],
   "source": [
    "print(llm.invoke(basic_prompt).content)"
   ]
  },
  {
   "cell_type": "markdown",
   "metadata": {},
   "source": [
    "## Structured Prompt"
   ]
  },
  {
   "cell_type": "code",
   "execution_count": 6,
   "metadata": {},
   "outputs": [],
   "source": [
    "structured_prompt = PromptTemplate(\n",
    "    input_variables = [\"topic\"],\n",
    "    template = \"Provide a definition of {topic}, explain its importance, and give an example.\"\n",
    ")\n",
    "\n",
    "chain = structured_prompt | llm # Combine the prompt and the model\n",
    "input_variables = {\"topic\": \"prompt engineering\"} # Define the input variables\n",
    "\n",
    "output = chain.invoke(input_variables) # Invoke the chain with the input variables"
   ]
  },
  {
   "cell_type": "code",
   "execution_count": 7,
   "metadata": {},
   "outputs": [
    {
     "name": "stdout",
     "output_type": "stream",
     "text": [
      "**Definition:** Prompt Engineering is the process of designing and optimizing input data, known as prompts, that are used to interact with artificial intelligence (AI) models, such as language generators, chatbots, or other machine learning-based systems. The goal of prompt engineering is to elicit accurate, relevant, and informative responses from these AI systems.\n",
      "\n",
      "**Importance:** Prompt engineering is crucial in the development and deployment of AI models because it can significantly impact the quality and reliability of their output. Effective prompts can help to:\n",
      "\n",
      "1. Improve accuracy: By providing clear and concise instructions, prompt engineering can reduce errors and improve the overall quality of the response.\n",
      "2. Enhance relevance: Well-crafted prompts can ensure that the AI system responds with relevant information, reducing the need for follow-up questions or clarification.\n",
      "3. Increase efficiency: Optimal prompts can enable AI systems to provide more efficient and streamlined responses, saving time and effort for users.\n",
      "\n",
      "**Example:** Consider a language model like LLaMA (Large Language Model Application) that generates human-like text based on input prompts. To optimize the prompt for this model, an engineer might use techniques such as:\n",
      "\n",
      "1. **Clear formatting**: Use headings, bullet points, or numbered lists to make the prompt easy to read and understand.\n",
      "2. **Specific keywords**: Include relevant keywords or phrases to help the model understand the context and topic of the response.\n",
      "3. **Concise phrasing**: Use simple and concise language in the prompt to avoid ambiguity and ensure a clear understanding of the task.\n",
      "\n",
      "For instance, let's say we want to use LLaMA to generate a short story based on a prompt like: \"Write a 200-word story about a character who discovers a hidden world within their reflection.\"\n",
      "\n",
      "A well-crafted prompt might look like this:\n",
      "\n",
      "\"Write a 200-word story about a character who discovers a hidden world within their reflection. The protagonist, a young woman named Luna, has always felt an affinity for the mirror in her bedroom. One day, while gazing into its depths, she notices something strange - a small doorway appears, leading to a mystical realm. Describe what Luna sees and experiences as she explores this new world.\"\n",
      "\n",
      "By optimizing the prompt with clear formatting, specific keywords, and concise phrasing, we can help LLaMA generate a more accurate, relevant, and engaging response.\n"
     ]
    }
   ],
   "source": [
    "print(output.content) # Print the output content"
   ]
  },
  {
   "cell_type": "markdown",
   "metadata": {},
   "source": [
    "### Iterating through prompts"
   ]
  },
  {
   "cell_type": "code",
   "execution_count": 8,
   "metadata": {},
   "outputs": [
    {
     "name": "stdout",
     "output_type": "stream",
     "text": [
      "\n",
      "Prompt 1:\n",
      "List 3 applications of AI in healthcare.\n",
      "\n",
      "Response:\n",
      "Here are three applications of AI in healthcare:\n",
      "\n",
      "1. **Medical Imaging Analysis**: Artificial intelligence (AI) can be used to analyze medical images such as X-rays, CT scans, and MRI scans to help diagnose diseases more accurately and quickly. AI algorithms can detect abnormalities, identify patterns, and provide insights that may not be visible to human clinicians.\n",
      "\n",
      "2. **Predictive Analytics for Disease Prevention**: AI can be used to analyze large amounts of patient data to predict the likelihood of developing certain diseases or experiencing a medical condition. For example, AI-powered algorithms can analyze genomic data, medical histories, and lifestyle factors to identify individuals at high risk of developing conditions such as diabetes or cardiovascular disease.\n",
      "\n",
      "3. **Chatbots for Patient Engagement**: AI-powered chatbots can be used to engage patients in their healthcare, provide personalized support, and help with administrative tasks. Chatbots can answer common questions, provide medication reminders, and even help patients navigate the healthcare system. They can also be used to triage patients and direct them to the right resources or care providers.\n",
      "\n",
      "These are just a few examples of the many applications of AI in healthcare.\n",
      "--------------------------------------------------\n",
      "\n",
      "Prompt 2:\n",
      "Explain how AI is revolutionizing healthcare, with 3 specific examples.\n",
      "\n",
      "Response:\n",
      "Artificial intelligence (AI) is transforming the healthcare industry in various ways, improving patient outcomes, streamlining clinical workflows, and enhancing decision-making. Here are three specific examples of how AI is revolutionizing healthcare:\n",
      "\n",
      "1. **Predictive Analytics for Disease Diagnosis**: AI algorithms can analyze large amounts of medical data, including images, lab results, and patient histories, to predict the likelihood of a patient developing a particular disease or condition. This can help clinicians make more accurate diagnoses and provide personalized treatment plans.\n",
      "\n",
      "For instance, Google's AI-powered LYNA (Lymph Node Assistant) tool uses machine learning algorithms to analyze mammography images and detect breast cancer at an early stage, reducing false negatives by up to 87%.\n",
      "\n",
      "2. **Personalized Medicine through Genomics**: AI can help analyze genomic data to identify genetic mutations associated with specific diseases or conditions. This information can be used to develop personalized treatment plans tailored to individual patients' needs.\n",
      "\n",
      "For example, the IBM Watson for Genomics platform uses machine learning algorithms to analyze genomic data and identify potential therapeutic targets for cancer treatment. The platform has been shown to improve patient outcomes by identifying specific genetic mutations that respond well to certain treatments.\n",
      "\n",
      "3. **Robot-Assisted Surgery**: AI-powered robots can assist surgeons during complex procedures, improving precision, reducing recovery time, and minimizing complications.\n",
      "\n",
      "For instance, the da Vinci SP robotic system uses AI algorithms to analyze real-time data from the operating room, such as surgical site temperatures and blood pressure, to optimize the performance of the robot and provide more precise control. This has been shown to improve outcomes for patients undergoing complex procedures, such as prostatectomies and hysterectomies.\n",
      "\n",
      "These examples demonstrate how AI is transforming various aspects of healthcare, from predictive analytics and personalized medicine to robotic-assisted surgery. As AI technology continues to evolve, we can expect even more innovative applications in the future.\n",
      "--------------------------------------------------\n",
      "\n",
      "Prompt 3:\n",
      "You are a doctor. Describe 3 ways AI has improved your daily work in the hospital.\n",
      "\n",
      "Response:\n",
      "As a doctor, I've had the opportunity to experience firsthand how Artificial Intelligence (AI) has revolutionized my daily work in the hospital. Here are three ways AI has made a significant impact:\n",
      "\n",
      "1. **Efficient Patient Data Analysis**: AI-powered tools have enabled me to quickly and accurately analyze patient data, which has greatly reduced the time spent on paperwork and administrative tasks. For instance, I use an AI-driven system that can review lab results, radiology reports, and medical histories in real-time, allowing me to make more informed decisions about patient care.\n",
      "\n",
      "This technology has saved me around 30 minutes per day, which is equivalent to 15 hours per year. This extra time allows me to focus on what matters most – providing quality care to my patients. Additionally, the system's predictive analytics capabilities have helped me identify potential complications and adjust treatment plans accordingly, leading to better patient outcomes.\n",
      "\n",
      "2. **Personalized Medicine with AI-driven Decision Support**: My institution has implemented an AI-powered decision support system that provides personalized treatment recommendations based on a patient's unique genetic profile, medical history, and current health status. This system uses machine learning algorithms to analyze vast amounts of data and generate tailored treatment plans.\n",
      "\n",
      "For example, I can input a patient's genetic information and receive suggestions for targeted therapies or immunotherapies that are more likely to be effective for their specific cancer type. The system also helps me identify potential interactions between medications and suggests alternative treatments if necessary.\n",
      "\n",
      "This AI-driven decision support has significantly improved patient outcomes by enabling me to make more informed, personalized treatment decisions in real-time.\n",
      "\n",
      "3. **Streamlined Scheduling and Communication**: AI-powered chatbots have streamlined our hospital's scheduling and communication processes, freeing up staff like myself from routine administrative tasks. For instance, patients can now book appointments online and receive reminders via text or email, reducing no-shows and missed appointments.\n",
      "\n",
      "Additionally, AI-driven virtual assistants help facilitate more efficient communication between healthcare teams by automating many routine messages, such as appointment confirmations, test results, and medication refill notifications. This has reduced the number of phone calls I need to make to patients, families, or other healthcare providers, allowing me to focus on more critical aspects of patient care.\n",
      "\n",
      "These are just a few examples of how AI is transforming my daily work in the hospital. As AI technology continues to evolve, I'm excited to explore new applications that will further enhance patient care and improve our overall efficiency.\n",
      "--------------------------------------------------\n"
     ]
    }
   ],
   "source": [
    "prompts = [\n",
    "    \"List 3 applications of AI in healthcare.\",\n",
    "    \"Explain how AI is revolutionizing healthcare, with 3 specific examples.\",\n",
    "    \"You are a doctor. Describe 3 ways AI has improved your daily work in the hospital.\"\n",
    "]\n",
    "\n",
    "for i, prompt in enumerate(prompts, 1):\n",
    "    print(f\"\\nPrompt {i}:\")\n",
    "    print(prompt)\n",
    "    print(\"\\nResponse:\")\n",
    "    print(llm.invoke(prompt).content)\n",
    "    print(\"-\" * 50)"
   ]
  },
  {
   "cell_type": "markdown",
   "metadata": {},
   "source": [
    "### Helps Overcome limitations of LLM"
   ]
  },
  {
   "cell_type": "code",
   "execution_count": 9,
   "metadata": {},
   "outputs": [
    {
     "name": "stdout",
     "output_type": "stream",
     "text": [
      "The evaluation of the statement \"The capital of Bihar is London\" is that it is completely incorrect.\n",
      "\n",
      "Bihar is a state in India, and its capital is Patna, not London. London is actually the capital of England, which is part of the United Kingdom, located in Europe.\n"
     ]
    }
   ],
   "source": [
    "fact_check_prompt = PromptTemplate(\n",
    "    input_variables=[\"statement\"],\n",
    "    template=\"\"\"Evaluate the following statement for factual accuracy. If it's incorrect, then provide the correct information:\n",
    "    Statement: {statement}\n",
    "    Evaluation:\"\"\"\n",
    ")\n",
    "\n",
    "chain = fact_check_prompt | llm\n",
    "input_variables = {\"statement\": \"The capital of Bihar is London.\"}\n",
    "print(chain.invoke(input_variables).content)"
   ]
  },
  {
   "cell_type": "markdown",
   "metadata": {},
   "source": [
    "### Improving Complex Problem Solving"
   ]
  },
  {
   "cell_type": "code",
   "execution_count": 10,
   "metadata": {},
   "outputs": [
    {
     "name": "stdout",
     "output_type": "stream",
     "text": [
      "To calculate the compound interest, we can use the formula:\n",
      "\n",
      "A = P(1 + r)^n\n",
      "\n",
      "Where:\n",
      "- A is the amount after n years\n",
      "- P is the principal (initial investment), which in this case is $1000\n",
      "- r is the annual interest rate, which is 5% or 0.05 as a decimal\n",
      "- n is the number of years, which is 5\n",
      "\n",
      "First, we need to find the amount after 5 years:\n",
      "\n",
      "A = 1000(1 + 0.05)^5\n",
      "= 1000(1.05)^5\n"
     ]
    }
   ],
   "source": [
    "problem_solving_prompt = PromptTemplate(\n",
    "    input_variables=[\"problem\"],\n",
    "    template=\"\"\" Solve the following problem step-by-step:\n",
    "    Problem: {problem}\n",
    "    Solution:\n",
    "    1)\"\"\"\n",
    ")\n",
    "\n",
    "chain = problem_solving_prompt | llm\n",
    "input_variables = {\"problem\": \"Calculate the compound interest on $1000 invested for 5 years at an annual rate of 5%, compounded annually.\"}\n",
    "\n",
    "print(chain.invoke(input_variables).content)"
   ]
  },
  {
   "cell_type": "markdown",
   "metadata": {},
   "source": [
    "# Prompt Structures"
   ]
  },
  {
   "cell_type": "markdown",
   "metadata": {},
   "source": [
    "## Key Components\n",
    "* Single-turn Prompts: One-shot interactions with the language model.\n",
    "* Multi-turn Prompts: Series of interactions that maintain context. (Conversations)\n",
    "* Prompt Templates: Reusable structures for consistent prompting.\n",
    "* Conversation Chains: Maintaining context across multiple interactions."
   ]
  },
  {
   "cell_type": "markdown",
   "metadata": {},
   "source": [
    "## Single-Turn Prompts\n",
    "\n",
    "Ab tak jaisa kiya hai... Ek single message, No Memory\n",
    "\n",
    "### Unstructured Way"
   ]
  },
  {
   "cell_type": "code",
   "execution_count": 11,
   "metadata": {},
   "outputs": [
    {
     "name": "stdout",
     "output_type": "stream",
     "text": [
      "The three primary colors are:\n",
      "\n",
      "1. Red\n",
      "2. Blue\n",
      "3. Yellow\n",
      "\n",
      "These colors cannot be created by mixing other colors together, and they are the base colors used to create all other colors.\n"
     ]
    }
   ],
   "source": [
    "single_turn_prompt = \"What are the three primary colors?\"\n",
    "print(llm.invoke(single_turn_prompt).content)"
   ]
  },
  {
   "cell_type": "markdown",
   "metadata": {},
   "source": [
    "### Structured Way"
   ]
  },
  {
   "cell_type": "code",
   "execution_count": 12,
   "metadata": {},
   "outputs": [
    {
     "name": "stdout",
     "output_type": "stream",
     "text": [
      "Color theory is a set of principles used to create harmonious color combinations and to understand the way colors interact with each other. It is based on the way colors are perceived by the human eye and brain, and it involves the study of color properties, such as hue, saturation, and value.\n",
      "\n",
      "The three main components of color theory are:\n",
      "\n",
      "1. **Hue**: Hue refers to the actual color itself, such as red, blue, or yellow. It is the fundamental property of color that determines its position on the color wheel.\n",
      "2. **Saturation**: Saturation refers to the intensity or purity of a color. A highly saturated color has a strong, vibrant quality, while a less saturated color is more muted and washed out.\n",
      "3. **Value**: Value refers to the lightness or darkness of a color. Values range from black (the darkest) to white (the lightest), with various shades in between.\n",
      "\n",
      "Understanding these three components of color theory can help artists, designers, and anyone working with colors create harmonious and visually appealing color schemes.\n"
     ]
    }
   ],
   "source": [
    "structured_prompt = PromptTemplate(\n",
    "    input_variables=[\"topic\"],\n",
    "    template=\"Provide a brief explanation of {topic} and list its three main components.\"\n",
    ")\n",
    "\n",
    "chain = structured_prompt | llm\n",
    "print(chain.invoke({\"topic\": \"color theory\"}).content)"
   ]
  },
  {
   "cell_type": "markdown",
   "metadata": {},
   "source": [
    "## Multi-turn Prompts (Conversations)\n"
   ]
  },
  {
   "cell_type": "code",
   "execution_count": 13,
   "metadata": {},
   "outputs": [],
   "source": [
    "from langchain.chains import ConversationChain\n",
    "from langchain.memory import ConversationBufferMemory"
   ]
  },
  {
   "cell_type": "code",
   "execution_count": 14,
   "metadata": {},
   "outputs": [
    {
     "name": "stderr",
     "output_type": "stream",
     "text": [
      "/tmp/ipykernel_1672/1238423598.py:4: LangChainDeprecationWarning: Please see the migration guide at: https://python.langchain.com/docs/versions/migrating_memory/\n",
      "  memory = ConversationBufferMemory()\n",
      "/tmp/ipykernel_1672/1238423598.py:1: LangChainDeprecationWarning: The class `ConversationChain` was deprecated in LangChain 0.2.7 and will be removed in 1.0. Use :meth:`~RunnableWithMessageHistory: https://python.langchain.com/v0.2/api_reference/core/runnables/langchain_core.runnables.history.RunnableWithMessageHistory.html` instead.\n",
      "  conversation = ConversationChain(\n"
     ]
    },
    {
     "name": "stdout",
     "output_type": "stream",
     "text": [
      "\n",
      "\n",
      "\u001b[1m> Entering new ConversationChain chain...\u001b[0m\n",
      "Prompt after formatting:\n",
      "\u001b[32;1m\u001b[1;3mThe following is a friendly conversation between a human and an AI. The AI is talkative and provides lots of specific details from its context. If the AI does not know the answer to a question, it truthfully says it does not know.\n",
      "\n",
      "Current conversation:\n",
      "\n",
      "Human: Hi, I'm learning about space. Can you tell me about planets?\n",
      "AI:\u001b[0m\n",
      "\n",
      "\u001b[1m> Finished chain.\u001b[0m\n",
      "Planets! That's a vast and fascinating topic. There are currently eight recognized planets in our solar system, which orbit around the Sun. Let me see if I can recall some interesting facts for you...\n",
      "\n",
      "The four innermost planets, starting from the one closest to the Sun, are Mercury, Venus, Earth, and Mars. Each of these planets has its unique characteristics, such as Earth's atmosphere being composed mostly of nitrogen and oxygen, or Mars' rusty red hue due to iron oxide.\n",
      "\n",
      "Then there are the gas giants: Jupiter, Saturn, Uranus, and Neptune. These planets are primarily made up of hydrogen and helium gases, with incredibly high pressures and temperatures at their cores. Did you know that Jupiter is so massive that it could fit over 1,300 Earths inside its volume?\n",
      "\n",
      "Finally, we have the ice giants, which include Uranus and Neptune. These planets have much lower densities than the gas giants, indicating a higher proportion of water, ammonia, and methane ices.\n",
      "\n",
      "Would you like to know more about any specific planet or aspect of planetary science?\n",
      "\n",
      "\n",
      "\u001b[1m> Entering new ConversationChain chain...\u001b[0m\n",
      "Prompt after formatting:\n",
      "\u001b[32;1m\u001b[1;3mThe following is a friendly conversation between a human and an AI. The AI is talkative and provides lots of specific details from its context. If the AI does not know the answer to a question, it truthfully says it does not know.\n",
      "\n",
      "Current conversation:\n",
      "Human: Hi, I'm learning about space. Can you tell me about planets?\n",
      "AI: Planets! That's a vast and fascinating topic. There are currently eight recognized planets in our solar system, which orbit around the Sun. Let me see if I can recall some interesting facts for you...\n",
      "\n",
      "The four innermost planets, starting from the one closest to the Sun, are Mercury, Venus, Earth, and Mars. Each of these planets has its unique characteristics, such as Earth's atmosphere being composed mostly of nitrogen and oxygen, or Mars' rusty red hue due to iron oxide.\n",
      "\n",
      "Then there are the gas giants: Jupiter, Saturn, Uranus, and Neptune. These planets are primarily made up of hydrogen and helium gases, with incredibly high pressures and temperatures at their cores. Did you know that Jupiter is so massive that it could fit over 1,300 Earths inside its volume?\n",
      "\n",
      "Finally, we have the ice giants, which include Uranus and Neptune. These planets have much lower densities than the gas giants, indicating a higher proportion of water, ammonia, and methane ices.\n",
      "\n",
      "Would you like to know more about any specific planet or aspect of planetary science?\n",
      "Human: What's the largest planet in our solar system?\n",
      "AI:\u001b[0m\n",
      "\n",
      "\u001b[1m> Finished chain.\u001b[0m\n",
      "You're asking about the largest planet in our solar system! Well, that would be Jupiter. It's truly a gas giant, and it holds the record for being the largest planet in terms of both mass and size. With a diameter of approximately 142,984 kilometers (88,846 miles), Jupiter is more than 11 times the diameter of Earth! Its massive size is also due to its incredibly high atmospheric pressure, which is about 100 times that of Earth's atmosphere.\n",
      "\n",
      "By the way, if you're interested in learning more about Jupiter, I can tell you that it has a stunning ring system, with four main rings and dozens of smaller ringlets. The planet's Great Red Spot, a giant storm that's been raging for centuries, is also a fascinating feature worth exploring.\n",
      "\n",
      "Would you like to know more about Jupiter or perhaps explore other planetary bodies?\n",
      "\n",
      "\n",
      "\u001b[1m> Entering new ConversationChain chain...\u001b[0m\n",
      "Prompt after formatting:\n",
      "\u001b[32;1m\u001b[1;3mThe following is a friendly conversation between a human and an AI. The AI is talkative and provides lots of specific details from its context. If the AI does not know the answer to a question, it truthfully says it does not know.\n",
      "\n",
      "Current conversation:\n",
      "Human: Hi, I'm learning about space. Can you tell me about planets?\n",
      "AI: Planets! That's a vast and fascinating topic. There are currently eight recognized planets in our solar system, which orbit around the Sun. Let me see if I can recall some interesting facts for you...\n",
      "\n",
      "The four innermost planets, starting from the one closest to the Sun, are Mercury, Venus, Earth, and Mars. Each of these planets has its unique characteristics, such as Earth's atmosphere being composed mostly of nitrogen and oxygen, or Mars' rusty red hue due to iron oxide.\n",
      "\n",
      "Then there are the gas giants: Jupiter, Saturn, Uranus, and Neptune. These planets are primarily made up of hydrogen and helium gases, with incredibly high pressures and temperatures at their cores. Did you know that Jupiter is so massive that it could fit over 1,300 Earths inside its volume?\n",
      "\n",
      "Finally, we have the ice giants, which include Uranus and Neptune. These planets have much lower densities than the gas giants, indicating a higher proportion of water, ammonia, and methane ices.\n",
      "\n",
      "Would you like to know more about any specific planet or aspect of planetary science?\n",
      "Human: What's the largest planet in our solar system?\n",
      "AI: You're asking about the largest planet in our solar system! Well, that would be Jupiter. It's truly a gas giant, and it holds the record for being the largest planet in terms of both mass and size. With a diameter of approximately 142,984 kilometers (88,846 miles), Jupiter is more than 11 times the diameter of Earth! Its massive size is also due to its incredibly high atmospheric pressure, which is about 100 times that of Earth's atmosphere.\n",
      "\n",
      "By the way, if you're interested in learning more about Jupiter, I can tell you that it has a stunning ring system, with four main rings and dozens of smaller ringlets. The planet's Great Red Spot, a giant storm that's been raging for centuries, is also a fascinating feature worth exploring.\n",
      "\n",
      "Would you like to know more about Jupiter or perhaps explore other planetary bodies?\n",
      "Human: How does its size compare to Earth?\n",
      "AI:\u001b[0m\n",
      "\n",
      "\u001b[1m> Finished chain.\u001b[0m\n",
      "The size comparison between Jupiter and Earth! That's a great question. As I mentioned earlier, Jupiter has a diameter of approximately 142,984 kilometers (88,846 miles), while Earth's diameter is about 12,742 kilometers (7,918 miles). So, to put it in perspective, Jupiter is roughly 11 times larger in terms of diameter than our home planet. To think of it another way, if you were to stand on the surface of Jupiter, you'd be over 1,300 times taller than you are on Earth!\n",
      "\n",
      "Now, keep in mind that Jupiter's size isn't just about its diameter - its mass is truly astronomical. As I mentioned earlier, Jupiter could fit over 1,300 Earths inside its volume, which gives you an idea of just how massive it is.\n",
      "\n",
      "Would you like to explore more comparisons between Jupiter and other planets, or perhaps dive deeper into the unique features that make our solar system so fascinating?\n"
     ]
    }
   ],
   "source": [
    "conversation = ConversationChain(\n",
    "    llm = llm,\n",
    "    verbose = True,\n",
    "    memory = ConversationBufferMemory()\n",
    ")\n",
    "\n",
    "print(conversation.predict(input=\"Hi, I'm learning about space. Can you tell me about planets?\"))\n",
    "print(conversation.predict(input=\"What's the largest planet in our solar system?\"))\n",
    "print(conversation.predict(input=\"How does its size compare to Earth?\"))"
   ]
  },
  {
   "cell_type": "code",
   "execution_count": 15,
   "metadata": {},
   "outputs": [
    {
     "name": "stdout",
     "output_type": "stream",
     "text": [
      "Single-turn responses:\n",
      "Q: What is the capital of France?\n",
      "A: The capital of France is Paris.\n",
      "\n",
      "Q: What is its population?\n",
      "A: I don't have enough information to determine the population you're referring to. Could you please provide more context or specify which \"it\" you are asking about?\n",
      "\n",
      "Q: What is the city's most famous landmark?\n",
      "A: I don't have enough information to determine which city you are referring to. Could you please provide more context or specify the name of the city? I'd be happy to try and help you find its most famous landmark.\n",
      "\n",
      "Multi-turn responses:\n",
      "Q: What is the capital of France?\n",
      "A: Bonjour! I'd be delighted to help you with that. The capital of France is Paris. Did you know that Paris is also the most populous city in France, with over 2.1 million residents within its limits? And it's home to many iconic landmarks like the Eiffel Tower, Notre-Dame Cathedral, and the Louvre Museum, which houses some of the world's most famous artworks, including the Mona Lisa.\n",
      "\n",
      "Q: What is its population?\n",
      "A: Human: What is its population?\n",
      "\n",
      "AI: Ah, an excellent follow-up question! The population of Paris varies depending on the time frame considered. According to the latest available data from 2020, the population within the city limits of Paris is approximately 2.1 million residents. However, if we consider the larger metropolitan area, which includes several neighboring cities and suburbs, the population swells to around 12.2 million people. The Parisian agglomeration is one of the largest urban areas in Europe!\n",
      "\n",
      "Q: What is the city's most famous landmark?\n",
      "A: I think you might be trying to trick me! You're asking a question that's similar to the previous one, but with slightly different wording. Well, I'll play along!\n",
      "\n",
      "According to my knowledge, the Eiffel Tower is arguably the most iconic and famous landmark in Paris. It was built for the 1889 World's Fair and has since become an enduring symbol of French culture and engineering. Did you know that the Eiffel Tower stands at an impressive 324 meters (1,063 feet) tall? It's also one of the most visited paid monuments in the world, attracting millions of visitors each year!\n",
      "\n",
      "(By the way, I'm happy to answer any other questions you might have about Paris or its landmarks. Just let me know!)\n",
      "\n"
     ]
    }
   ],
   "source": [
    "# Single-turn prompts\n",
    "prompts = [\n",
    "    \"What is the capital of France?\",\n",
    "    \"What is its population?\",\n",
    "    \"What is the city's most famous landmark?\"\n",
    "]\n",
    "\n",
    "print(\"Single-turn responses:\")\n",
    "for prompt in prompts:\n",
    "    print(f\"Q: {prompt}\")\n",
    "    print(f\"A: {llm.invoke(prompt).content}\\n\")\n",
    "\n",
    "# Multi-turn prompts\n",
    "print(\"Multi-turn responses:\")\n",
    "conversation = ConversationChain(llm=llm, memory=ConversationBufferMemory())\n",
    "for prompt in prompts:\n",
    "    print(f\"Q: {prompt}\")\n",
    "    print(f\"A: {conversation.predict(input=prompt)}\\n\")"
   ]
  },
  {
   "cell_type": "markdown",
   "metadata": {},
   "source": [
    "# Jinga2 Templates in Prompting"
   ]
  },
  {
   "cell_type": "code",
   "execution_count": 30,
   "metadata": {},
   "outputs": [],
   "source": [
    "from jinja2 import Template\n"
   ]
  },
  {
   "cell_type": "markdown",
   "metadata": {},
   "source": [
    "## Template Creation"
   ]
  },
  {
   "cell_type": "code",
   "execution_count": 31,
   "metadata": {},
   "outputs": [],
   "source": [
    "class customPromptTemplate:\n",
    "    ''' A class to represent a template for generating prompts with variables\n",
    "    Attributes:\n",
    "        template (str): The template string with variables\n",
    "        input_variables (list): A list of the variable names in the template\n",
    "    '''\n",
    "    def __init__(self, template, input_variables):\n",
    "        self.template = Template(template)\n",
    "        self.input_variables = input_variables\n",
    "    \n",
    "    def format(self, **kwargs):\n",
    "        return self.template.render(**kwargs)"
   ]
  },
  {
   "cell_type": "code",
   "execution_count": 24,
   "metadata": {},
   "outputs": [],
   "source": [
    "def get_completion(prompt):\n",
    "    return llm.invoke(prompt).content"
   ]
  },
  {
   "cell_type": "markdown",
   "metadata": {},
   "source": [
    "## Basic Variable Handling"
   ]
  },
  {
   "cell_type": "markdown",
   "metadata": {},
   "source": [
    "### Single Variable"
   ]
  },
  {
   "cell_type": "code",
   "execution_count": 33,
   "metadata": {},
   "outputs": [],
   "source": [
    "# Simple template with one variable\n",
    "simple_template = customPromptTemplate(\n",
    "    template=\"Provide a brief explanation of {{ topic }}.\",\n",
    "    input_variables=[\"topic\"]\n",
    ")"
   ]
  },
  {
   "cell_type": "markdown",
   "metadata": {},
   "source": [
    "### Multi-Variable"
   ]
  },
  {
   "cell_type": "code",
   "execution_count": 34,
   "metadata": {},
   "outputs": [],
   "source": [
    "# More complex template with multiple variables\n",
    "complex_template = customPromptTemplate(\n",
    "    template=\"Explain the concept of {{ concept }} in the field of {{ field }} to a {{ audience }} audience, concisely.\",\n",
    "    input_variables=[\"concept\", \"field\", \"audience\"]\n",
    ")\n"
   ]
  },
  {
   "cell_type": "markdown",
   "metadata": {},
   "source": [
    "### Usage Demo"
   ]
  },
  {
   "cell_type": "code",
   "execution_count": 35,
   "metadata": {},
   "outputs": [
    {
     "name": "stdout",
     "output_type": "stream",
     "text": [
      "Simple Template Result:\n",
      "Photosynthesis is the process by which plants, algae, and some bacteria convert light energy from the sun into chemical energy in the form of organic compounds, such as glucose. This process occurs in specialized organelles called chloroplasts, which contain pigments like chlorophyll that absorb light energy.\n",
      "\n",
      "During photosynthesis, carbon dioxide (CO2) and water (H2O) are absorbed by the plant, and then energy from sunlight is used to convert CO2 into oxygen (O2) and glucose. The overall equation for photosynthesis is:\n",
      "\n",
      "6 CO2 + 6 H2O + light energy → C6H12O6 (glucose) + 6 O2\n",
      "\n",
      "Photosynthesis is essential for life on Earth, as it provides the energy and organic compounds needed to support the food chain.\n",
      "\n",
      "--------------------------------------------------\n",
      "\n",
      "Complex Template Result:\n",
      "Here's a concise explanation of neural networks in AI:\n",
      "\n",
      "**What is a Neural Network?**\n",
      "\n",
      "A neural network is a computer system inspired by the human brain. It's composed of layers of interconnected nodes (neurons) that process and transmit information.\n",
      "\n",
      "**How Does it Work?**\n",
      "\n",
      "Imagine you're trying to recognize a cat picture. A neural network would break down the image into:\n",
      "\n",
      "1. **Input**: The pixels that make up the image.\n",
      "2. **Processing**: Each pixel is passed through multiple layers of neurons, which apply filters and transformations to extract features like edges, shapes, or textures.\n",
      "3. **Output**: The final output is a prediction or classification (e.g., \"this is a cat\").\n",
      "\n",
      "**Training**\n",
      "\n",
      "To learn from data, neural networks are trained on large datasets using algorithms like backpropagation, which adjusts the weights and biases of each layer to minimize errors.\n",
      "\n",
      "**Types of Neural Networks**\n",
      "\n",
      "1. **Feedforward**: Data flows only in one direction.\n",
      "2. **Recurrent**: Data flows through cycles, allowing for temporal relationships (e.g., speech recognition).\n",
      "3. **Convolutional**: Designed for image and video processing.\n",
      "\n",
      "Neural networks are powerful tools for tasks like image classification, natural language processing, and more. They're widely used in AI applications and continue to improve with advancements in machine learning.\n"
     ]
    }
   ],
   "source": [
    "# Using the simple template\n",
    "print(\"Simple Template Result:\")\n",
    "prompt = simple_template.format(topic=\"photosynthesis\")\n",
    "print(get_completion(prompt))\n",
    "\n",
    "print(\"\\n\" + \"-\"*50 + \"\\n\")\n",
    "\n",
    "# Using the complex template\n",
    "print(\"Complex Template Result:\")\n",
    "prompt = complex_template.format(\n",
    "    concept=\"neural networks\",\n",
    "    field=\"artificial intelligence\",\n",
    "    audience=\"beginner\"\n",
    ")\n",
    "print(get_completion(prompt))"
   ]
  },
  {
   "cell_type": "markdown",
   "metadata": {},
   "source": [
    "## List Processing"
   ]
  },
  {
   "cell_type": "code",
   "execution_count": null,
   "metadata": {},
   "outputs": [
    {
     "name": "stdout",
     "output_type": "stream",
     "text": [
      "List Template Result:\n",
      "Here are the categorizations:\n",
      "\n",
      "**Group 1: Fruits**\n",
      "\n",
      "* Apple\n",
      "* Banana\n",
      "\n",
      "**Group 2: Tools**\n",
      "\n",
      "* Hammer\n",
      "* Screwdriver\n",
      "* Pliers\n",
      "\n",
      "**Group 3: Books**\n",
      "\n",
      "* Novel\n",
      "* Textbook\n",
      "* Magazine\n"
     ]
    }
   ],
   "source": [
    "# Template for list processing\n",
    "list_template = customPromptTemplate(\n",
    "    template=\"Categorize these items into groups: {{ items }}. Provide the categories and the items in each category.\",\n",
    "    input_variables=[\"items\"]\n",
    ")\n",
    "\n",
    "# Using the list template\n",
    "print(\"List Template Result:\")\n",
    "prompt = list_template.format(\n",
    "    items=\"apple, banana, carrot, hammer, screwdriver, pliers, novel, textbook, magazine\"\n",
    ")\n",
    "print(get_completion(prompt))"
   ]
  },
  {
   "cell_type": "markdown",
   "metadata": {},
   "source": [
    "## Control-Flow: Conditionals "
   ]
  },
  {
   "cell_type": "code",
   "execution_count": 36,
   "metadata": {},
   "outputs": [
    {
     "name": "stdout",
     "output_type": "stream",
     "text": [
      "Conditional Template Result (with profession):\n",
      "Hi Alex,\n",
      "\n",
      "As a 28-year-old software developer, here are some concise career advice suggestions:\n",
      "\n",
      "1. **Continuously upskill**: Stay updated with the latest technologies and trends to remain competitive.\n",
      "2. **Network extensively**: Attend industry events, join online communities, and connect with peers to expand your professional network.\n",
      "3. **Consider specialization**: Focus on a specific area of software development, such as machine learning or cloud computing, to differentiate yourself.\n",
      "4. **Take on leadership roles**: Volunteer for projects that involve leading teams or mentoring junior developers to enhance your management skills.\n",
      "5. **Set career goals**: Define clear objectives and create a plan to achieve them, whether it's moving into management or starting your own company.\n",
      "\n",
      "Remember, Alex, the key to success is continuous learning, networking, and adapting to change in the ever-evolving tech industry.\n",
      "\n",
      "Best of luck!\n",
      "\n",
      "Conditional Template Result (without profession):\n",
      "Hi Sam, at 22, it's normal to be exploring your options. As an unemployed individual, consider the following:\n",
      "\n",
      "* Reflect on your passions and interests: What activities do you enjoy doing in your free time?\n",
      "* Explore entry-level positions: Look for internships or part-time jobs that can help you gain work experience.\n",
      "* Consider further education or training: Upskilling yourself could improve job prospects.\n",
      "* Network and make connections: Attend events, join groups related to your interests, and connect with people in industries you're interested in.\n",
      "\n",
      "Remember, it's a great time to explore and learn about different careers.\n",
      "\n",
      "--------------------------------------------------\n",
      "\n"
     ]
    }
   ],
   "source": [
    "# Template with conditional content\n",
    "conditional_template = customPromptTemplate(\n",
    "    template=\"My name is {{ name }} and I am {{ age }} years old. \"\n",
    "              \"{% if profession %}I work as a {{ profession }}.{% else %}I am currently not employed.{% endif %} \"\n",
    "              \"Can you give me career advice based on this information? answer concisely.\",\n",
    "    input_variables=[\"name\", \"age\", \"profession\"]\n",
    ")\n",
    "\n",
    "# Using the conditional template\n",
    "print(\"Conditional Template Result (with profession):\")\n",
    "prompt = conditional_template.format(\n",
    "    name=\"Alex\",\n",
    "    age=\"28\",\n",
    "    profession=\"software developer\"\n",
    ")\n",
    "print(get_completion(prompt))\n",
    "\n",
    "print(\"\\nConditional Template Result (without profession):\")\n",
    "prompt = conditional_template.format(\n",
    "    name=\"Sam\",\n",
    "    age=\"22\",\n",
    "    #profession=\"\"\n",
    ")\n",
    "print(get_completion(prompt))\n",
    "\n",
    "print(\"\\n\" + \"-\"*50 + \"\\n\")"
   ]
  },
  {
   "cell_type": "markdown",
   "metadata": {},
   "source": [
    "## Control-Flow: Loop"
   ]
  },
  {
   "cell_type": "code",
   "execution_count": 39,
   "metadata": {},
   "outputs": [
    {
     "name": "stdout",
     "output_type": "stream",
     "text": [
      "Formatted List Template Result:\n",
      "**Summary:**\n",
      "\n",
      "The given list consists of eight programming languages, frameworks, and technologies used for web development.\n",
      "\n",
      "**Grouping Patterns:**\n",
      "\n",
      "Upon analyzing the list, two distinct groups can be identified:\n",
      "\n",
      "1. **Front-end technologies:**\n",
      "\t* JavaScript\n",
      "\t* HTML\n",
      "\t* CSS\n",
      "\t* React\n",
      "2. **Back-end technologies:**\n",
      "\t* Python (Django/Flask)\n",
      "\t* Node.js\n",
      "\n",
      "**Additional Insights:**\n",
      "\n",
      "- Django and Flask are both Python-based frameworks, but they serve different purposes:\n",
      "  * Django is a full-fledged framework that provides an out-of-the-box solution for building complex web applications.\n",
      "  * Flask is a microframework that offers more flexibility and modularity.\n",
      "\n",
      "- React is a JavaScript library primarily used for front-end development, while Node.js is a runtime environment for server-side JavaScript.\n",
      "\n",
      "These groupings suggest that the list is focused on the intersection of front-end and back-end technologies in web development.\n",
      "\n",
      "--------------------------------------------------\n",
      "\n"
     ]
    }
   ],
   "source": [
    "# Template with formatted list\n",
    "list_format_template = customPromptTemplate(\n",
    "    template=\"Analyze the following list of items:\\n\"\n",
    "              \"{% for item in items.split(',') %}\"\n",
    "              \"- {{ item.strip() }}\\n\"\n",
    "              \"{% endfor %}\"\n",
    "              \"\\nProvide a summary of the list and suggest any patterns or groupings.\",\n",
    "    input_variables=[\"items\"]\n",
    ")\n",
    "\n",
    "\n",
    "# Using the formatted list template\n",
    "print(\"Formatted List Template Result:\")\n",
    "prompt = list_format_template.format(\n",
    "    items=\"Python, JavaScript, HTML, CSS, React, Django, Flask, Node.js\"\n",
    ")\n",
    "print(get_completion(prompt))\n",
    "\n",
    "print(\"\\n\" + \"-\"*50 + \"\\n\")"
   ]
  },
  {
   "cell_type": "markdown",
   "metadata": {},
   "source": [
    "## Dynamic Prompting"
   ]
  },
  {
   "cell_type": "markdown",
   "metadata": {},
   "source": [
    "Same as *multi-variable* but we give full on *strings of instructions*."
   ]
  },
  {
   "cell_type": "code",
   "execution_count": 41,
   "metadata": {},
   "outputs": [
    {
     "name": "stdout",
     "output_type": "stream",
     "text": [
      "Dynamic Instruction Template Result:\n",
      "Based on your requirements, I propose a logo design for the tech startup focused on AI-driven healthcare solutions:\n",
      "\n",
      "**Logo Design:**\n",
      "\n",
      "The logo features a stylized combination of two elements: a circle (representing unity, wholeness, and infinity) and a waveform (symbolizing movement, growth, and innovation). The colors used are blue (#4567b7) for the circle and green (#8bc34a) for the waveform.\n",
      "\n",
      "**Design Elements:**\n",
      "\n",
      "1. **Circle:** The blue circle is simple, yet distinctive. It represents the unity and wholeness that healthcare aims to achieve through AI-driven solutions.\n",
      "2. **Waveform:** The green waveform is stylized and abstracted, conveying movement and growth. This element represents the innovative and dynamic nature of AI technology in healthcare.\n",
      "\n",
      "**Composition:**\n",
      "\n",
      "The circle and waveform are positioned side by side, creating a balanced composition. The circle serves as a foundation, while the waveform floats above it, creating visual interest and depth. The blue and green colors work harmoniously together, evoking feelings of trust, calmness, and growth.\n",
      "\n",
      "**Icon Variations:**\n",
      "\n",
      "To ensure versatility, I've created several logo variations:\n",
      "\n",
      "1. **Main Logo:** This is the primary logo with both elements combined.\n",
      "2. **Icon-only Logo:** A standalone waveform icon for use on social media profiles or other small spaces.\n",
      "3. **Text-based Logo:** A simple text-based version of the company name using a clean, modern font.\n",
      "\n",
      "**Logo Meaning:**\n",
      "\n",
      "The logo represents the fusion of AI and healthcare, conveying a sense of innovation, growth, and unity. The colors blue and green work together to create a calming yet dynamic visual identity that inspires trust and confidence in patients and medical professionals alike.\n",
      "\n",
      "**Scalability:**\n",
      "\n",
      "The design is carefully crafted to be scalable, ensuring that the logo remains recognizable even when used in small sizes (e.g., social media profiles, business cards).\n",
      "\n",
      "**Color Palette:**\n",
      "\n",
      "Blue (#4567b7): A calming and trustworthy blue tone.\n",
      "Green (#8bc34a): A vibrant and growth-oriented green shade.\n",
      "\n",
      "This logo design meets all your requirements, combining simplicity with recognition, while incorporating the specified colors of blue and green.\n"
     ]
    }
   ],
   "source": [
    "# Template with dynamic instructions\n",
    "dynamic_instruction_template = customPromptTemplate(\n",
    "    template=\"Task: {{ task }}\\n\"\n",
    "              \"Context: {{ context }}\\n\"\n",
    "              \"Constraints: {{ constraints }}\\n\\n\"\n",
    "              \"Please provide a solution that addresses the task, considers the context, and adheres to the constraints.\",\n",
    "    input_variables=[\"task\", \"context\", \"constraints\"]\n",
    ")\n",
    "\n",
    "# Using the dynamic instruction template\n",
    "print(\"Dynamic Instruction Template Result:\")\n",
    "prompt = dynamic_instruction_template.format(\n",
    "    task=\"Design a logo for a tech startup\",\n",
    "    context=\"The startup focuses on AI-driven healthcare solutions\",\n",
    "    constraints=\"Must use blue and green colors, and should be simple enough to be recognizable when small\"\n",
    ")\n",
    "print(get_completion(prompt))"
   ]
  },
  {
   "cell_type": "code",
   "execution_count": null,
   "metadata": {},
   "outputs": [],
   "source": []
  }
 ],
 "metadata": {
  "kernelspec": {
   "display_name": ".venv",
   "language": "python",
   "name": "python3"
  },
  "language_info": {
   "codemirror_mode": {
    "name": "ipython",
    "version": 3
   },
   "file_extension": ".py",
   "mimetype": "text/x-python",
   "name": "python",
   "nbconvert_exporter": "python",
   "pygments_lexer": "ipython3",
   "version": "3.12.3"
  }
 },
 "nbformat": 4,
 "nbformat_minor": 2
}
