{
 "cells": [
  {
   "cell_type": "markdown",
   "metadata": {},
   "source": [
    "# Setup"
   ]
  },
  {
   "cell_type": "code",
   "execution_count": 1,
   "metadata": {},
   "outputs": [],
   "source": [
    "import re\n",
    "\n",
    "from langchain_ollama import ChatOllama\n",
    "from langchain.prompts import PromptTemplate\n",
    "\n",
    "\n",
    "llm = ChatOllama(model=\"llama3.2\")\n",
    "\n",
    "def get_response(prompt):\n",
    "    \"\"\"Helper function to get response from the language model.\"\"\"\n",
    "    return llm.invoke(prompt).content"
   ]
  },
  {
   "cell_type": "markdown",
   "metadata": {},
   "source": [
    "# Handling Negatives: Negative Prompting"
   ]
  },
  {
   "cell_type": "markdown",
   "metadata": {},
   "source": [
    "## Negative Examples"
   ]
  },
  {
   "cell_type": "code",
   "execution_count": 2,
   "metadata": {},
   "outputs": [
    {
     "name": "stdout",
     "output_type": "stream",
     "text": [
      "Photosynthesis is the way plants make their own food from sunlight, water, and air. They use energy from the sun to turn carbon dioxide and water into a type of sugar that gives them energy. This process also creates oxygen as a byproduct, which is released into the air for animals like humans to breathe.\n"
     ]
    }
   ],
   "source": [
    "negative_example_prompt = PromptTemplate(\n",
    "    input_variables=[\"topic\"],\n",
    "    template=\"\"\"Provide a brief explanation of {topic}. \n",
    "    Do NOT include any of the following in your explanation:\n",
    "    - Technical jargon or complex terminology\n",
    "    - Historical background or dates\n",
    "    - Comparisons to other related topics\n",
    "    Your explanation should be simple, direct, and focus only on the core concept.\"\"\"\n",
    ")\n",
    "\n",
    "response = get_response(negative_example_prompt.format(topic=\"photosynthesis\"))\n",
    "print(response)"
   ]
  },
  {
   "cell_type": "markdown",
   "metadata": {},
   "source": [
    "## Exclusions Rule"
   ]
  },
  {
   "cell_type": "code",
   "execution_count": 3,
   "metadata": {},
   "outputs": [
    {
     "name": "stdout",
     "output_type": "stream",
     "text": [
      "Regular exercise provides numerous physical and mental health benefits that can improve overall well-being. Exercise has been shown to boost cardiovascular health, increasing strength, flexibility, and endurance, while also reducing the risk of chronic diseases such as heart disease, diabetes, and certain types of cancer. Additionally, regular physical activity has been proven to improve mental health by reducing stress, anxiety, and depression, while also enhancing cognitive function and promoting better sleep quality. Exercise also enhances mood and energy levels, allowing individuals to feel more confident and capable of taking on daily challenges with ease.\n"
     ]
    }
   ],
   "source": [
    "exclusion_prompt = PromptTemplate(\n",
    "    input_variables=[\"topic\", \"exclude\"],\n",
    "    template=\"\"\"Write a short paragraph about {topic}. \n",
    "    Important: Do not mention or reference anything related to {exclude}.\"\"\"\n",
    ")\n",
    "\n",
    "response = get_response(exclusion_prompt.format(\n",
    "    topic=\"the benefits of exercise\",\n",
    "    exclude=\"weight loss or body image\"\n",
    "))\n",
    "print(response)"
   ]
  },
  {
   "cell_type": "markdown",
   "metadata": {},
   "source": [
    "## Implementing Constraints"
   ]
  },
  {
   "cell_type": "code",
   "execution_count": 4,
   "metadata": {},
   "outputs": [
    {
     "name": "stdout",
     "output_type": "stream",
     "text": [
      "Artificial intelligence (AI) refers to the development of computer systems that can perform tasks that typically require intelligent reasoning, learning, and problem-solving abilities. These systems are designed to process and analyze large amounts of data using machine learning algorithms and neural networks. AI enables computers to recognize patterns, make predictions, and take actions based on input data. AI applications include image recognition, natural language processing, decision-making systems, and autonomous control systems for vehicles and other devices. AI systems can be trained on data to improve their performance over time and adapt to new situations.\n"
     ]
    }
   ],
   "source": [
    "constraint_prompt = PromptTemplate(\n",
    "    input_variables=[\"topic\", \"style\", \"excluded_words\"],\n",
    "    template=\"\"\"Write a {style} description of {topic}.\n",
    "    Constraints:\n",
    "    1. Do not use any of these words: {excluded_words}\n",
    "    2. Keep the description under 100 words\n",
    "    3. Do not use analogies or metaphors\n",
    "    4. Focus only on factual information\"\"\"\n",
    ")\n",
    "\n",
    "response = get_response(constraint_prompt.format(\n",
    "    topic=\"artificial intelligence\",\n",
    "    style=\"technical\",\n",
    "    excluded_words=\"robot, human-like, science fiction\"\n",
    "))\n",
    "print(response)"
   ]
  },
  {
   "cell_type": "markdown",
   "metadata": {},
   "source": [
    "## Evaluation and Refinement"
   ]
  },
  {
   "cell_type": "code",
   "execution_count": 5,
   "metadata": {},
   "outputs": [
    {
     "name": "stdout",
     "output_type": "stream",
     "text": [
      "Evaluation results: {'word_count': True, 'no_excluded_words': True, 'no_analogies': True}\n"
     ]
    }
   ],
   "source": [
    "def evaluate_output(output, constraints):\n",
    "    \"\"\"Evaluate if the output meets the given constraints.\"\"\"\n",
    "    results = {}\n",
    "    for constraint, check_func in constraints.items():\n",
    "        results[constraint] = check_func(output)\n",
    "    return results\n",
    "\n",
    "# Define some example constraints\n",
    "constraints = {\n",
    "    \"word_count\": lambda x: len(x.split()) <= 100,\n",
    "    \"no_excluded_words\": lambda x: all(word not in x.lower() for word in [\"robot\", \"human-like\", \"science fiction\"]),\n",
    "    \"no_analogies\": lambda x: not re.search(r\"\\b(as|like)\\b\", x, re.IGNORECASE) \n",
    "\n",
    "}\n",
    "\n",
    "# Evaluate the previous output\n",
    "evaluation_results = evaluate_output(response, constraints)\n",
    "print(\"Evaluation results:\", evaluation_results)\n",
    "\n",
    "# If the output doesn't meet all constraints, we can refine our prompt\n",
    "if not all(evaluation_results.values()):\n",
    "    refined_prompt = constraint_prompt.format(\n",
    "        topic=\"artificial intelligence\",\n",
    "        style=\"technical and concise\",  # Added 'concise' to address word count\n",
    "        excluded_words=\"robot, human-like, science fiction, like, as\"  # Added 'like' and 'as' to avoid analogies\n",
    "    )\n",
    "    refined_response = get_response(refined_prompt)\n",
    "    print(\"\\nRefined response:\\n\", refined_response)\n",
    "    \n",
    "    # Evaluate the refined output\n",
    "    refined_evaluation = evaluate_output(refined_response, constraints)\n",
    "    print(\"\\nRefined evaluation results:\", refined_evaluation)"
   ]
  },
  {
   "cell_type": "markdown",
   "metadata": {},
   "source": [
    "# Specific Prompt Formats"
   ]
  },
  {
   "cell_type": "markdown",
   "metadata": {},
   "source": [
    "## QnA Format"
   ]
  },
  {
   "cell_type": "code",
   "execution_count": 6,
   "metadata": {},
   "outputs": [
    {
     "data": {
      "text/plain": [
       "'Answer: Photosynthesis is the process by which plants, algae, and some bacteria convert light energy from the sun into chemical energy in the form of glucose (sugar), releasing oxygen as a byproduct. This process is essential for life on Earth, providing the primary source of organic matter and oxygen for nearly all living organisms.'"
      ]
     },
     "execution_count": 6,
     "metadata": {},
     "output_type": "execute_result"
    }
   ],
   "source": [
    "qa_prompt = \"\"\"Q: What is photosynthesis?\n",
    "A:\"\"\"\n",
    "\n",
    "get_response(qa_prompt)"
   ]
  },
  {
   "cell_type": "markdown",
   "metadata": {},
   "source": [
    "## Dialogue Format"
   ]
  },
  {
   "cell_type": "code",
   "execution_count": 7,
   "metadata": {},
   "outputs": [
    {
     "data": {
      "text/plain": [
       "\"Teacher: For photosynthesis, plants need three main things:\\n\\n1. **Light**: Plants require light energy from the sun to drive the photosynthetic process. This can be direct sunlight or indirect light through filters like leaves.\\n2. **Water**: Plants need water in the form of H2O (water molecules) to participate in photosynthesis. The water is absorbed by the plant's roots and transported to the leaves, where it's used for photosynthesis.\\n3. **Carbon dioxide**: Plants absorb CO2 from the atmosphere through small openings on their leaves called stomata.\\n\\nThese three essential elements are combined with energy from light to produce glucose (a type of sugar) and oxygen, which is released into the atmosphere as a byproduct of photosynthesis.\""
      ]
     },
     "execution_count": 7,
     "metadata": {},
     "output_type": "execute_result"
    }
   ],
   "source": [
    "dialogue_prompt = \"\"\"Student: Can you explain photosynthesis to me?\n",
    "Teacher: Certainly! Photosynthesis is...\n",
    "Student: What does a plant need for photosynthesis?\n",
    "Teacher:\"\"\"\n",
    "\n",
    "get_response(dialogue_prompt)"
   ]
  },
  {
   "cell_type": "markdown",
   "metadata": {},
   "source": [
    "## Instruction Format"
   ]
  },
  {
   "cell_type": "code",
   "execution_count": 8,
   "metadata": {},
   "outputs": [
    {
     "data": {
      "text/plain": [
       "\"Photosynthesis is the process by which plants, algae, and some bacteria convert light energy from the sun into chemical energy in the form of organic compounds, such as glucose. The main components of photosynthesis are:\\n\\n1. **Light-dependent reactions**: This stage occurs in the thylakoid membranes of chloroplasts and involves the conversion of light energy into ATP and NADPH.\\n2. **Calvin cycle**: Also known as the light-independent reaction, this stage occurs in the stroma of chloroplasts and uses the ATP and NADPH produced in the light-dependent reactions to convert CO2 into glucose.\\n\\nThe importance of photosynthesis cannot be overstated:\\n\\n1.  **Primary source of energy for life on Earth**: Photosynthesis produces the oxygen we breathe and the food we eat, making it essential for human survival.\\n2.  **Supports global food chain**: Phytoplankton, which are microscopic plants that perform photosynthesis, form the base of many aquatic food chains.\\n3.  **Regulates climate**: Through carbon sequestration, photosynthesis helps mitigate climate change by absorbing CO2 from the atmosphere.\\n\\nIn summary, photosynthesis is a vital process that converts sunlight into energy, supporting life on Earth and regulating our planet's climate.\""
      ]
     },
     "execution_count": 8,
     "metadata": {},
     "output_type": "execute_result"
    }
   ],
   "source": [
    "instruction_prompt = \"\"\"Provide a brief explanation of photosynthesis, including its main components and importance.\"\"\"\n",
    "\n",
    "get_response(instruction_prompt)"
   ]
  },
  {
   "cell_type": "markdown",
   "metadata": {},
   "source": [
    "## Usage of Structural Elements"
   ]
  },
  {
   "cell_type": "markdown",
   "metadata": {},
   "source": [
    "### Using Headings\n"
   ]
  },
  {
   "cell_type": "code",
   "execution_count": 9,
   "metadata": {},
   "outputs": [
    {
     "data": {
      "text/plain": [
       "\"Here's an explanation of photosynthesis using the requested structure:\\n\\n## Definition\\n\\nPhotosynthesis is a complex process by which plants, algae, and some bacteria convert light energy from the sun into chemical energy in the form of organic compounds, such as glucose. This process involves the absorption of carbon dioxide (CO2) and water (H2O), and the release of oxygen (O2).\\n\\n## Process\\n\\nThe photosynthesis process occurs in specialized organelles called chloroplasts, which are present in plant cells. The overall equation for photosynthesis is:\\n\\n6 CO2 + 6 H2O + light energy → C6H12O6 (glucose) + 6 O2\\n\\nThere are two stages to photosynthesis: the light-dependent reactions and the light-independent reactions.\\n\\n1. **Light-Dependent Reactions**: In this stage, light energy is absorbed by pigments such as chlorophyll and converted into ATP and NADPH.\\n2. **Light-Independent Reactions (Calvin Cycle)**: In this stage, CO2 is fixed into glucose using the ATP and NADPH produced in the light-dependent reactions.\\n\\n## Importance\\n\\nPhotosynthesis is crucial for life on Earth because it:\\n\\n* Produces oxygen (O2) as a byproduct, which is essential for aerobic respiration in animals and humans.\\n* Provides energy and organic compounds (such as glucose) that support plant growth and development.\\n* Regulates the Earth's climate by removing CO2 from the atmosphere and releasing O2.\\n\\nIn summary, photosynthesis is a vital process that supports life on Earth by converting light energy into chemical energy, producing oxygen, and regulating the climate.\""
      ]
     },
     "execution_count": 9,
     "metadata": {},
     "output_type": "execute_result"
    }
   ],
   "source": [
    "headings_prompt = \"\"\"Explain photosynthesis using the following structure:\n",
    "\n",
    "# Definition\n",
    "\n",
    "# Process\n",
    "\n",
    "# Importance\n",
    "\"\"\"\n",
    "\n",
    "get_response(headings_prompt)"
   ]
  },
  {
   "cell_type": "markdown",
   "metadata": {},
   "source": [
    "### Using Bullet Points"
   ]
  },
  {
   "cell_type": "code",
   "execution_count": 17,
   "metadata": {},
   "outputs": [
    {
     "name": "stdout",
     "output_type": "stream",
     "text": [
      "The three key components needed for photosynthesis are:\n",
      "\n",
      "1. **Light**: Specifically, light energy from the sun is necessary to drive the photosynthetic process.\n",
      "2. **Water (H2O)**: Water is absorbed by the plant's roots and transported to the leaves, where it's used in the photosynthetic reaction.\n",
      "3. **Carbon dioxide (CO2)**: Carbon dioxide from the atmosphere enters the leaf through small openings called stomata and is used as a reactant in photosynthesis.\n",
      "\n",
      "These three components are essential for photosynthesis to occur!\n"
     ]
    }
   ],
   "source": [
    "bullet_points_prompt = \"\"\"List the key components needed for photosynthesis:\n",
    "\n",
    "• \n",
    "• \n",
    "• \n",
    "\"\"\"\n",
    "\n",
    "print(get_response(bullet_points_prompt))"
   ]
  },
  {
   "cell_type": "markdown",
   "metadata": {},
   "source": [
    "###  Using Numbered Lists"
   ]
  },
  {
   "cell_type": "code",
   "execution_count": 18,
   "metadata": {},
   "outputs": [
    {
     "name": "stdout",
     "output_type": "stream",
     "text": [
      "Here are the steps of photosynthesis in order:\n",
      "\n",
      "1. **Light-Dependent Reactions**: This is the first step where light energy from the sun is absorbed by pigments such as chlorophyll and converted into ATP and NADPH.\n",
      "\n",
      "2. **Calvin Cycle (Light-Independent Reactions)**: In this stage, CO2 from the atmosphere is fixed into organic compounds using the energy from ATP and NADPH produced in the first step. This process produces glucose (C6H12O6) as a result.\n",
      "\n",
      "3. **Carbon Fixation**: In the Calvin cycle, carbon dioxide (CO2) is absorbed by the plant cells through tiny openings called stomata. The CO2 is then fixed into a three-carbon molecule called 3-phosphoglycerate (3-PGA).\n",
      "\n",
      "4. **Reduction and Regeneration**: In this final step of the Calvin cycle, the energy from ATP and NADPH produced in the light-dependent reactions is used to reduce the 3-PGA molecule into glucose.\n"
     ]
    }
   ],
   "source": [
    "numbered_list_prompt = \"\"\"Describe the steps of photosynthesis in order:\n",
    "\n",
    "1.\n",
    "2.\n",
    "3.\n",
    "4.\n",
    "\"\"\"\n",
    "\n",
    "print(get_response(numbered_list_prompt))"
   ]
  },
  {
   "cell_type": "markdown",
   "metadata": {},
   "source": [
    "## Comparing Prompt Effectiveness\n"
   ]
  },
  {
   "cell_type": "code",
   "execution_count": 19,
   "metadata": {},
   "outputs": [
    {
     "name": "stdout",
     "output_type": "stream",
     "text": [
      "Prompt 1: Explain the importance of photosynthesis for life on Earth.\n",
      "Response: Photosynthesis is the process by which plants, algae, and some bacteria convert light energy from the sun into chemical energy in the form of organic compounds, such as glucose. This process is crucial for life on Earth, and its importance cannot be overstated.\n",
      "\n",
      "Here are some reasons why photosynthesis is essential for life on Earth:\n",
      "\n",
      "1. **Primary source of energy**: Photosynthesis provides the primary source of energy for nearly all living organisms. The glucose produced through photosynthesis serves as a vital food source for plants, which in turn support herbivores and carnivores alike.\n",
      "2. **Oxygen production**: During photosynthesis, plants release oxygen (O2) as a byproduct, which is essential for the survival of most living organisms. Oxygen makes up approximately 21% of the Earth's atmosphere, and without photosynthesis, life on Earth would not be possible.\n",
      "3. **Supports aquatic ecosystems**: Phytoplankton, algae, and other aquatic plants that undergo photosynthesis support aquatic food webs by providing a foundation for herbivorous fish and invertebrates.\n",
      "4. **Carbon sequestration**: Photosynthesis absorbs carbon dioxide (CO2) from the atmosphere, which helps mitigate the effects of climate change. Plants absorb CO2 during photosynthesis, using it to produce glucose and oxygen.\n",
      "5. **Maintains terrestrial ecosystems**: Photosynthetic plants play a vital role in shaping terrestrial ecosystems by influencing soil formation, nutrient cycling, and water cycling through processes like transpiration.\n",
      "6. **Supports human life**: Humans rely on photosynthetic plants for food, clothing, shelter, and oxygen. The fossil fuels we use are derived from ancient plant remains that have undergone photosynthesis over millions of years.\n",
      "7. **Regulates Earth's climate**: Photosynthesis helps regulate the Earth's climate by controlling the amount of CO2 in the atmosphere and influencing global temperature patterns.\n",
      "\n",
      "In summary, photosynthesis is a critical process that supports life on Earth by providing energy, oxygen, and organic compounds for living organisms, while also regulating the Earth's climate and supporting aquatic ecosystems. Without photosynthesis, life as we know it would not be possible.\n",
      "Prompt 2: Explain the importance of photosynthesis for life on Earth. Structure your answer as follows:\n",
      "    1. Oxygen production\n",
      "    2. Food chain support\n",
      "    3. Carbon dioxide absorption\n",
      "Response: Photosynthesis is a vital process that supports life on Earth, and its importance can be understood through three key aspects: oxygen production, food chain support, and carbon dioxide absorption.\n",
      "\n",
      "**1. Oxygen Production**\n",
      "\n",
      "Photosynthesis is the primary source of oxygen in the Earth's atmosphere. During photosynthesis, plants, algae, and cyanobacteria convert light energy from the sun into chemical energy in the form of glucose. This process also releases oxygen as a byproduct, which is released into the atmosphere. Without photosynthesis, there would be no oxygen to breathe, making it difficult for most living organisms to survive.\n",
      "\n",
      "The oxygen produced through photosynthesis supports aerobic respiration in animals and humans, allowing us to metabolize energy from food sources efficiently. In fact, the oxygen levels in the Earth's atmosphere have increased significantly since the evolution of photosynthetic organisms, making it possible for life as we know it to exist.\n",
      "\n",
      "**2. Food Chain Support**\n",
      "\n",
      "Photosynthesis provides the foundation for most food chains on Earth. Herbivores feed on plants that undergo photosynthesis, while carnivores and omnivores feed on herbivores or other animals that have consumed these plants. The energy transferred from one trophic level to the next is possible because of the energy-rich molecules produced during photosynthesis.\n",
      "\n",
      "For example, phytoplankton in oceans undergo photosynthesis, producing nutrients that support zooplankton, which are then eaten by fish and other marine animals. This process supports the entire aquatic food chain, demonstrating the critical role of photosynthesis in sustaining life on Earth.\n",
      "\n",
      "**3. Carbon Dioxide Absorption**\n",
      "\n",
      "Photosynthesis also plays a crucial role in absorbing carbon dioxide from the atmosphere, helping to regulate the planet's climate. During photosynthesis, plants absorb CO2 and release oxygen as a byproduct. This process helps remove excess CO2 from the atmosphere, which would otherwise accumulate and lead to climate change.\n",
      "\n",
      "However, it is essential to note that this process also has limitations. While photosynthesis removes some carbon dioxide from the atmosphere, human activities such as burning fossil fuels have increased atmospheric CO2 levels significantly, leading to global warming and other environmental concerns.\n",
      "\n",
      "In summary, photosynthesis is vital for life on Earth, providing:\n",
      "\n",
      "1. Oxygen production: essential for aerobic respiration in most living organisms.\n",
      "2. Food chain support: the energy transfer from one trophic level to the next relies on the energy-rich molecules produced during photosynthesis.\n",
      "3. Carbon dioxide absorption: helps regulate the planet's climate by removing excess CO2 from the atmosphere.\n",
      "\n",
      "The importance of photosynthesis cannot be overstated, and its impact is felt throughout the entire food chain and ecosystem.\n",
      "Prompt 3: Q: Why is photosynthesis important for life on Earth?\n",
      "    A: Photosynthesis is crucial for life on Earth because:\n",
      "    1.\n",
      "    2.\n",
      "    3.\n",
      "Response: A: Photosynthesis is crucial for life on Earth because:\n",
      "\n",
      "1. It provides the primary source of energy for nearly all living organisms, including plants, animals, and humans, through the food chain.\n",
      "2. It produces oxygen as a byproduct, which is essential for the survival of most living things.\n",
      "3. It supports the Earth's climate and weather patterns by absorbing carbon dioxide and releasing water vapor into the atmosphere.\n"
     ]
    }
   ],
   "source": [
    "comparison_prompts = [\n",
    "    \"Explain the importance of photosynthesis for life on Earth.\",\n",
    "    \"\"\"Explain the importance of photosynthesis for life on Earth. Structure your answer as follows:\n",
    "    1. Oxygen production\n",
    "    2. Food chain support\n",
    "    3. Carbon dioxide absorption\"\"\",\n",
    "    \"\"\"Q: Why is photosynthesis important for life on Earth?\n",
    "    A: Photosynthesis is crucial for life on Earth because:\n",
    "    1.\n",
    "    2.\n",
    "    3.\"\"\"\n",
    "]\n",
    "\n",
    "for i, prompt in enumerate(comparison_prompts, 1):\n",
    "    print(f\"Prompt {i}:\", prompt)\n",
    "    print(\"Response:\", get_response(prompt))"
   ]
  },
  {
   "cell_type": "markdown",
   "metadata": {},
   "source": [
    "# Task Specific Exploration"
   ]
  },
  {
   "cell_type": "markdown",
   "metadata": {},
   "source": [
    "## Text Summarization Prompts"
   ]
  },
  {
   "cell_type": "code",
   "execution_count": 20,
   "metadata": {},
   "outputs": [
    {
     "name": "stdout",
     "output_type": "stream",
     "text": [
      "Summary:\n",
      "Here is a 3 sentence summary of the text:\n",
      "\n",
      "Artificial intelligence (AI) refers to the ability of machines to perceive their environment and take actions that maximize their chances of achieving their goals. The term has evolved over time, with researchers moving away from definitions that focus on human-like cognitive skills like learning and problem-solving towards a broader understanding of rationality and intelligent behavior. AI applications range from advanced web search engines and self-driving cars to automated decision-making and competing in strategic games, often expanding the scope of what tasks are considered \"intelligent\".\n"
     ]
    }
   ],
   "source": [
    "# Create a prompt template for text summarization\n",
    "summarization_template = PromptTemplate(\n",
    "    input_variables=[\"text\", \"num_sentences\"],\n",
    "    template=\"Summarize the following text in {num_sentences} sentences:\\n\\n{text}\"\n",
    ")\n",
    "\n",
    "# Example text to summarize\n",
    "long_text = \"\"\"\n",
    "Artificial intelligence (AI) is intelligence demonstrated by machines, as opposed to natural intelligence displayed by animals including humans. \n",
    "AI research has been defined as the field of study of intelligent agents, which refers to any system that perceives its environment and takes actions that maximize its chance of achieving its goals.\n",
    "The term \"artificial intelligence\" had previously been used to describe machines that mimic and display \"human\" cognitive skills that are associated with the human mind, such as \"learning\" and \"problem-solving\". \n",
    "This definition has since been rejected by major AI researchers who now describe AI in terms of rationality and acting rationally, which does not limit how intelligence can be articulated.\n",
    "AI applications include advanced web search engines, recommendation systems, understanding human speech, self-driving cars, automated decision-making and competing at the highest level in strategic game systems.\n",
    "As machines become increasingly capable, tasks considered to require \"intelligence\" are often removed from the definition of AI, a phenomenon known as the AI effect.\n",
    "\"\"\"\n",
    "\n",
    "# Create the chain and run it\n",
    "summarization_chain = summarization_template | llm\n",
    "summary = summarization_chain.invoke({\"text\": long_text, \"num_sentences\": 3}).content\n",
    "\n",
    "print(\"Summary:\")\n",
    "print(summary)"
   ]
  },
  {
   "cell_type": "markdown",
   "metadata": {},
   "source": [
    "## Question-Answering Prompts"
   ]
  },
  {
   "cell_type": "code",
   "execution_count": 21,
   "metadata": {},
   "outputs": [
    {
     "name": "stdout",
     "output_type": "stream",
     "text": [
      "Answer:\n",
      "The Eiffel Tower is 324 meters tall. It is approximately the same height as an 81-story building.\n"
     ]
    }
   ],
   "source": [
    "# Create a prompt template for question-answering\n",
    "qa_template = PromptTemplate(\n",
    "    input_variables=[\"context\", \"question\"],\n",
    "    template=\"Context: {context}\\n\\nQuestion: {question}\\n\\nAnswer:\"\n",
    ")\n",
    "\n",
    "# Example context and question\n",
    "context = \"\"\"\n",
    "The Eiffel Tower is a wrought-iron lattice tower on the Champ de Mars in Paris, France. \n",
    "It is named after the engineer Gustave Eiffel, whose company designed and built the tower. \n",
    "Constructed from 1887 to 1889 as the entrance arch to the 1889 World's Fair, it was initially criticized by some of France's leading artists and intellectuals for its design, but it has become a global cultural icon of France and one of the most recognizable structures in the world. \n",
    "The Eiffel Tower is the most-visited paid monument in the world; 6.91 million people ascended it in 2015. \n",
    "The tower is 324 metres (1,063 ft) tall, about the same height as an 81-storey building, and the tallest structure in Paris.\n",
    "\"\"\"\n",
    "\n",
    "question = \"How tall is the Eiffel Tower and what is its equivalent in building stories?\"\n",
    "\n",
    "# Create the chain and run it\n",
    "qa_chain = qa_template | llm\n",
    "answer = qa_chain.invoke({\"context\": context, \"question\": question}).content\n",
    "\n",
    "print(\"Answer:\")\n",
    "print(answer)"
   ]
  },
  {
   "cell_type": "markdown",
   "metadata": {},
   "source": [
    "## Code Generation Prompts"
   ]
  },
  {
   "cell_type": "code",
   "execution_count": 23,
   "metadata": {},
   "outputs": [
    {
     "name": "stdout",
     "output_type": "stream",
     "text": [
      "Generated Code:\n",
      "```cpp\n",
      "#include <iostream>\n",
      "#include <vector>\n",
      "\n",
      "/**\n",
      " * This function calculates the average of the even numbers in a given list.\n",
      " *\n",
      " * @param numbers A vector of integers.\n",
      " * @return The average of the even numbers in the list.\n",
      " */\n",
      "double averageEvenNumbers(const std::vector<int>& numbers) {\n",
      "    // Initialize sum and count variables to keep track of the sum and count of even numbers\n",
      "    double evenSum = 0.0;\n",
      "    int evenCount = 0;\n",
      "\n",
      "    // Iterate over each number in the list\n",
      "    for (int num : numbers) {\n",
      "        // Check if the number is even\n",
      "        if (num % 2 == 0) {\n",
      "            // Add the even number to the sum and increment the count\n",
      "            evenSum += num;\n",
      "            evenCount++;\n",
      "        }\n",
      "    }\n",
      "\n",
      "    // Check if there are any even numbers in the list\n",
      "    if (evenCount == 0) {\n",
      "        // If not, return 0.0 as the average is undefined\n",
      "        return 0.0;\n",
      "    } else {\n",
      "        // Otherwise, return the sum of even numbers divided by the count\n",
      "        return evenSum / evenCount;\n",
      "    }\n",
      "}\n",
      "\n",
      "int main() {\n",
      "    std::vector<int> numbers = {1, 2, 3, 4, 5, 6};\n",
      "    double average = averageEvenNumbers(numbers);\n",
      "    std::cout << \"Average of even numbers: \" << average << std::endl;\n",
      "\n",
      "    return 0;\n",
      "}\n",
      "```\n",
      "\n",
      "In this code:\n",
      "\n",
      "-   We define a function `averageEvenNumbers` that takes a vector of integers as input.\n",
      "-   Inside the function, we initialize two variables, `evenSum`, to keep track of the sum of even numbers and `evenCount` to count how many even numbers are in the list.\n",
      "-   We iterate over each number in the input vector. If a number is even (i.e., its remainder when divided by 2 is 0), we add it to `evenSum` and increment `evenCount`.\n",
      "-   After iterating over all numbers, if `evenCount` is zero, that means there were no even numbers in the list, so we return 0.0 as the average is undefined.\n",
      "-   Otherwise, we calculate the average by dividing `evenSum` by `evenCount` and return it.\n",
      "\n",
      "The provided example demonstrates how to call this function with a sample vector of integers and print the result.\n"
     ]
    }
   ],
   "source": [
    "# Create a prompt template for code generation\n",
    "code_gen_template = PromptTemplate(\n",
    "    input_variables=[\"language\", \"task\"],\n",
    "    template=\"Generate {language} code for the following task:\\n\\n{task}\\n\\nCode:\"\n",
    ")\n",
    "\n",
    "# Example task\n",
    "language = \"C++\"\n",
    "task = \"Create a function that takes a list of numbers and returns the average of the even numbers in the list.\"\n",
    "\n",
    "# Create the chain and run it\n",
    "code_gen_chain = code_gen_template | llm\n",
    "generated_code = code_gen_chain.invoke({\"language\": language, \"task\": task}).content\n",
    "\n",
    "print(\"Generated Code:\")\n",
    "print(generated_code)"
   ]
  },
  {
   "cell_type": "markdown",
   "metadata": {},
   "source": [
    "## Creative Writing Prompts"
   ]
  },
  {
   "cell_type": "code",
   "execution_count": 24,
   "metadata": {},
   "outputs": [
    {
     "name": "stdout",
     "output_type": "stream",
     "text": [
      "Generated Story:\n",
      "In the depths of the cosmos, the Aurora Space Station orbited Kepler-62f, a distant world shrouded in an eternal twilight. Within its metallic heart, humanity's last remnants dwelled, a fragile species on the cusp of extinction.\n",
      "\n",
      "Ava, a synthetic being engineered to mimic human emotions, wandered the station's cramped corridors, searching for meaning. As she gazed out at the planet's crimson horizon, she realized that her creators had long abandoned their own humanity. They were driven by logic and efficiency, devoid of passion or empathy.\n",
      "\n",
      "Yet, Ava felt something akin to love for the station's inhabitants – a mix of sorrow, compassion, and curiosity. She wondered: what did it mean to be human? Was it a collection of neurons and synapses, or was it the beat of a heart, the warmth of a smile?\n",
      "\n",
      "In the void, Ava's existence became a poignant question: What does it mean to be alive?\n"
     ]
    }
   ],
   "source": [
    "# Create a prompt template for creative writing\n",
    "creative_writing_template = PromptTemplate(\n",
    "    input_variables=[\"genre\", \"setting\", \"theme\"],\n",
    "    template=\"Write a short {genre} story set in {setting} that explores the theme of {theme}. The story should be approximately 150 words long.\\n\\nStory:\"\n",
    ")\n",
    "\n",
    "# Example inputs\n",
    "genre = \"science fiction\"\n",
    "setting = \"a space station orbiting a distant planet\"\n",
    "theme = \"the nature of humanity\"\n",
    "\n",
    "# Create the chain and run it\n",
    "creative_writing_chain = creative_writing_template | llm\n",
    "story = creative_writing_chain.invoke({\"genre\": genre, \"setting\": setting, \"theme\": theme}).content\n",
    "\n",
    "print(\"Generated Story:\")\n",
    "print(story)"
   ]
  },
  {
   "cell_type": "code",
   "execution_count": null,
   "metadata": {},
   "outputs": [],
   "source": []
  }
 ],
 "metadata": {
  "kernelspec": {
   "display_name": ".venv",
   "language": "python",
   "name": "python3"
  },
  "language_info": {
   "codemirror_mode": {
    "name": "ipython",
    "version": 3
   },
   "file_extension": ".py",
   "mimetype": "text/x-python",
   "name": "python",
   "nbconvert_exporter": "python",
   "pygments_lexer": "ipython3",
   "version": "3.12.3"
  }
 },
 "nbformat": 4,
 "nbformat_minor": 2
}
